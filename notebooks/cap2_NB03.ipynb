{
 "cells": [
  {
   "cell_type": "markdown",
   "id": "after-result",
   "metadata": {},
   "source": [
    "# How is US hazelnut production affected by inter-annual weather variation in the Willamette Valley of Oregon?"
   ]
  },
  {
   "cell_type": "markdown",
   "id": "armed-elite",
   "metadata": {},
   "source": [
    "[Previous Notebook](cap2_NB02.ipynb)\n",
    "# Notebook3\n",
    "If you are viewing on Git, the links below may not work; for that or other issues try the [alternate render](https://nbviewer.jupyter.org/github/sbBEM/cap2/blob/master/notebooks/cap2_NB03.ipynb).\n",
    "\n",
    "Table of contents\n",
    "- [Importing](#Importing)\n",
    "- [Cleaning(crops)](#Cleaning)\n",
    "    - [Profiling](#Profiling)\n",
    "    - [First crop df](#cropdf)\n",
    "    - [Second crop df](#cropdf2)\n",
    "- [Exporting data](#Exportingdata)\n",
    "\n",
    "[Next Notebook](cap2_NB04.ipynb)\n",
    "\n",
    "- [Transforming](cap2_NB04.ipynb#Transforming)\n",
    "- [Visualizing](cap2_NB04.ipynb#Visualizing)\n",
    "- [Modeling](cap2_NB04.ipynb#Modeling)\n",
    "- [Evaluating](cap2_NB04.ipynb#Evaluating)\n",
    "- [Concluding](cap2_NB04.ipynb#Concluding)"
   ]
  },
  {
   "cell_type": "markdown",
   "id": "hybrid-soundtrack",
   "metadata": {},
   "source": [
    "The previous notebook focused on cleaning the weather data. Here we will clean the two crop data files and merge them. "
   ]
  },
  {
   "cell_type": "markdown",
   "id": "intensive-premiere",
   "metadata": {},
   "source": [
    "## Importing <a name=\"Importing\"></a>"
   ]
  },
  {
   "cell_type": "markdown",
   "id": "complete-murder",
   "metadata": {},
   "source": [
    "Load python modules"
   ]
  },
  {
   "cell_type": "code",
   "execution_count": 274,
   "id": "charming-gathering",
   "metadata": {},
   "outputs": [],
   "source": [
    "import matplotlib as mpl\n",
    "import numpy as np\n",
    "import pandas as pd\n",
    "#import google.cloud.bigquery as bq\n",
    "import matplotlib.pyplot as plt\n",
    "#from mpl_toolkits.basemap import Basemap\n",
    "#from io import BytesIO\n",
    "#from zipfile import ZipFile\n",
    "#import requests\n",
    "#from IPython.core.display import display, HTML\n",
    "#import tabula\n",
    "import pandas_profiling\n",
    "from pandas_profiling.utils.cache import cache_file"
   ]
  },
  {
   "cell_type": "markdown",
   "id": "prompt-locator",
   "metadata": {},
   "source": [
    "Activate jupyter extentions"
   ]
  },
  {
   "cell_type": "code",
   "execution_count": 275,
   "id": "former-buying",
   "metadata": {},
   "outputs": [
    {
     "name": "stdout",
     "output_type": "stream",
     "text": [
      "The autoreload extension is already loaded. To reload it, use:\n",
      "  %reload_ext autoreload\n"
     ]
    }
   ],
   "source": [
    "#%load_ext google.cloud.bigquery\n",
    "%load_ext autoreload\n",
    "%autoreload 2"
   ]
  },
  {
   "cell_type": "markdown",
   "id": "criminal-airline",
   "metadata": {},
   "source": [
    "Bring in the data from previous notebook."
   ]
  },
  {
   "cell_type": "code",
   "execution_count": 276,
   "id": "irish-academy",
   "metadata": {},
   "outputs": [],
   "source": [
    "#weatherdf = pd.read_pickle(\"../data/weather.pkl\")\n",
    "#our_stations = pd.read_pickle(\"../data/station.pkl\")\n",
    "cropdf = pd.read_pickle(\"../data/raw/crop.pkl\")\n",
    "cropdf2 = pd.read_pickle(\"../data/raw/crop2.pkl\")\n",
    "#region_points.read_pickle(\"../data/region.pkl\")"
   ]
  },
  {
   "cell_type": "markdown",
   "id": "earlier-stupid",
   "metadata": {},
   "source": [
    "## Cleaning <a name=\"Cleaning\"></a>"
   ]
  },
  {
   "cell_type": "markdown",
   "id": "hearing-retrieval",
   "metadata": {},
   "source": [
    "### Profiling <a name=\"Profiling\"></a>"
   ]
  },
  {
   "cell_type": "code",
   "execution_count": 277,
   "id": "subsequent-highland",
   "metadata": {},
   "outputs": [
    {
     "data": {
      "text/html": [
       "<div>\n",
       "<style scoped>\n",
       "    .dataframe tbody tr th:only-of-type {\n",
       "        vertical-align: middle;\n",
       "    }\n",
       "\n",
       "    .dataframe tbody tr th {\n",
       "        vertical-align: top;\n",
       "    }\n",
       "\n",
       "    .dataframe thead th {\n",
       "        text-align: right;\n",
       "    }\n",
       "</style>\n",
       "<table border=\"1\" class=\"dataframe\">\n",
       "  <thead>\n",
       "    <tr style=\"text-align: right;\">\n",
       "      <th></th>\n",
       "      <th>49</th>\n",
       "      <th>Year</th>\n",
       "      <th>Utilized</th>\n",
       "      <th>per ton</th>\n",
       "      <th>Production</th>\n",
       "      <th>50</th>\n",
       "    </tr>\n",
       "  </thead>\n",
       "  <tbody>\n",
       "    <tr>\n",
       "      <th>count</th>\n",
       "      <td>50.0</td>\n",
       "      <td>82.000000</td>\n",
       "      <td>82.000000</td>\n",
       "      <td>82.000000</td>\n",
       "      <td>82.000000</td>\n",
       "      <td>32.0</td>\n",
       "    </tr>\n",
       "    <tr>\n",
       "      <th>mean</th>\n",
       "      <td>49.0</td>\n",
       "      <td>1967.500000</td>\n",
       "      <td>13285.853659</td>\n",
       "      <td>603.426829</td>\n",
       "      <td>11198.890244</td>\n",
       "      <td>50.0</td>\n",
       "    </tr>\n",
       "    <tr>\n",
       "      <th>std</th>\n",
       "      <td>0.0</td>\n",
       "      <td>23.815261</td>\n",
       "      <td>12191.606802</td>\n",
       "      <td>378.754490</td>\n",
       "      <td>15566.805948</td>\n",
       "      <td>0.0</td>\n",
       "    </tr>\n",
       "    <tr>\n",
       "      <th>min</th>\n",
       "      <td>49.0</td>\n",
       "      <td>1927.000000</td>\n",
       "      <td>60.000000</td>\n",
       "      <td>200.000000</td>\n",
       "      <td>19.000000</td>\n",
       "      <td>50.0</td>\n",
       "    </tr>\n",
       "    <tr>\n",
       "      <th>25%</th>\n",
       "      <td>49.0</td>\n",
       "      <td>1947.250000</td>\n",
       "      <td>5387.500000</td>\n",
       "      <td>344.500000</td>\n",
       "      <td>1955.750000</td>\n",
       "      <td>50.0</td>\n",
       "    </tr>\n",
       "    <tr>\n",
       "      <th>50%</th>\n",
       "      <td>49.0</td>\n",
       "      <td>1967.500000</td>\n",
       "      <td>9125.000000</td>\n",
       "      <td>514.000000</td>\n",
       "      <td>3765.500000</td>\n",
       "      <td>50.0</td>\n",
       "    </tr>\n",
       "    <tr>\n",
       "      <th>75%</th>\n",
       "      <td>49.0</td>\n",
       "      <td>1987.750000</td>\n",
       "      <td>17875.000000</td>\n",
       "      <td>785.250000</td>\n",
       "      <td>15096.500000</td>\n",
       "      <td>50.0</td>\n",
       "    </tr>\n",
       "    <tr>\n",
       "      <th>max</th>\n",
       "      <td>49.0</td>\n",
       "      <td>2008.000000</td>\n",
       "      <td>49500.000000</td>\n",
       "      <td>2240.000000</td>\n",
       "      <td>75480.000000</td>\n",
       "      <td>50.0</td>\n",
       "    </tr>\n",
       "  </tbody>\n",
       "</table>\n",
       "</div>"
      ],
      "text/plain": [
       "         49         Year      Utilized      per ton    Production    50\n",
       "count  50.0    82.000000     82.000000    82.000000     82.000000  32.0\n",
       "mean   49.0  1967.500000  13285.853659   603.426829  11198.890244  50.0\n",
       "std     0.0    23.815261  12191.606802   378.754490  15566.805948   0.0\n",
       "min    49.0  1927.000000     60.000000   200.000000     19.000000  50.0\n",
       "25%    49.0  1947.250000   5387.500000   344.500000   1955.750000  50.0\n",
       "50%    49.0  1967.500000   9125.000000   514.000000   3765.500000  50.0\n",
       "75%    49.0  1987.750000  17875.000000   785.250000  15096.500000  50.0\n",
       "max    49.0  2008.000000  49500.000000  2240.000000  75480.000000  50.0"
      ]
     },
     "execution_count": 277,
     "metadata": {},
     "output_type": "execute_result"
    }
   ],
   "source": [
    "cropdf.describe()"
   ]
  },
  {
   "cell_type": "code",
   "execution_count": 278,
   "id": "seasonal-amino",
   "metadata": {},
   "outputs": [
    {
     "data": {
      "text/html": [
       "<div>\n",
       "<style scoped>\n",
       "    .dataframe tbody tr th:only-of-type {\n",
       "        vertical-align: middle;\n",
       "    }\n",
       "\n",
       "    .dataframe tbody tr th {\n",
       "        vertical-align: top;\n",
       "    }\n",
       "\n",
       "    .dataframe thead th {\n",
       "        text-align: right;\n",
       "    }\n",
       "</style>\n",
       "<table border=\"1\" class=\"dataframe\">\n",
       "  <thead>\n",
       "    <tr style=\"text-align: right;\">\n",
       "      <th></th>\n",
       "      <th>year</th>\n",
       "      <th>Area</th>\n",
       "      <th>Yield</th>\n",
       "      <th>Utilized</th>\n",
       "      <th>Price</th>\n",
       "    </tr>\n",
       "  </thead>\n",
       "  <tbody>\n",
       "    <tr>\n",
       "      <th>count</th>\n",
       "      <td>11</td>\n",
       "      <td>11</td>\n",
       "      <td>11</td>\n",
       "      <td>11</td>\n",
       "      <td>11</td>\n",
       "    </tr>\n",
       "    <tr>\n",
       "      <th>unique</th>\n",
       "      <td>11</td>\n",
       "      <td>10</td>\n",
       "      <td>11</td>\n",
       "      <td>10</td>\n",
       "      <td>11</td>\n",
       "    </tr>\n",
       "    <tr>\n",
       "      <th>top</th>\n",
       "      <td>2016</td>\n",
       "      <td>30,000</td>\n",
       "      <td>1.22</td>\n",
       "      <td>44,000</td>\n",
       "      <td>1,830</td>\n",
       "    </tr>\n",
       "    <tr>\n",
       "      <th>freq</th>\n",
       "      <td>1</td>\n",
       "      <td>2</td>\n",
       "      <td>1</td>\n",
       "      <td>2</td>\n",
       "      <td>1</td>\n",
       "    </tr>\n",
       "  </tbody>\n",
       "</table>\n",
       "</div>"
      ],
      "text/plain": [
       "        year    Area Yield Utilized  Price\n",
       "count     11      11    11       11     11\n",
       "unique    11      10    11       10     11\n",
       "top     2016  30,000  1.22   44,000  1,830\n",
       "freq       1       2     1        2      1"
      ]
     },
     "execution_count": 278,
     "metadata": {},
     "output_type": "execute_result"
    }
   ],
   "source": [
    "cropdf2.describe()"
   ]
  },
  {
   "cell_type": "markdown",
   "id": "peaceful-occupation",
   "metadata": {},
   "source": [
    "We want to build data definitions to describe the features in the datasets to identify any issues that will require cleaning. We'll try the Pandas profiling module. "
   ]
  },
  {
   "cell_type": "code",
   "execution_count": 279,
   "id": "danish-scheduling",
   "metadata": {},
   "outputs": [
    {
     "data": {
      "application/vnd.jupyter.widget-view+json": {
       "model_id": "b4f1e20469e54be499c1e4a4bdaa2b84",
       "version_major": 2,
       "version_minor": 0
      },
      "text/plain": [
       "Summarize dataset:   0%|          | 0/26 [00:00<?, ?it/s]"
      ]
     },
     "metadata": {},
     "output_type": "display_data"
    },
    {
     "data": {
      "application/vnd.jupyter.widget-view+json": {
       "model_id": "6408f9932276492084c6b6dab83ec8a3",
       "version_major": 2,
       "version_minor": 0
      },
      "text/plain": [
       "Generate report structure:   0%|          | 0/1 [00:00<?, ?it/s]"
      ]
     },
     "metadata": {},
     "output_type": "display_data"
    },
    {
     "data": {
      "application/vnd.jupyter.widget-view+json": {
       "model_id": "1338fa717c3a47fab5b6a1c5b546d02d",
       "version_major": 2,
       "version_minor": 0
      },
      "text/plain": [
       "Render HTML:   0%|          | 0/1 [00:00<?, ?it/s]"
      ]
     },
     "metadata": {},
     "output_type": "display_data"
    },
    {
     "data": {
      "application/vnd.jupyter.widget-view+json": {
       "model_id": "62865cbb1f15459a966e999e6fc20a7a",
       "version_major": 2,
       "version_minor": 0
      },
      "text/plain": [
       "Export report to file:   0%|          | 0/1 [00:00<?, ?it/s]"
      ]
     },
     "metadata": {},
     "output_type": "display_data"
    }
   ],
   "source": [
    "cropdfprofile = pandas_profiling.ProfileReport(cropdf, title='cropdf Profiling Report', explorative=True)\n",
    "#displays the report directly in the notebook:\n",
    "#cropdfprofile.to_widgets()\n",
    "#due to a notebook size problem, generate as a separate HTML report instead: \n",
    "cropdfprofile.to_file(\"cropdfprofile.html\")"
   ]
  },
  {
   "cell_type": "markdown",
   "id": "included-registrar",
   "metadata": {},
   "source": [
    "[View Profile Report Here](cropdfprofile.html)"
   ]
  },
  {
   "cell_type": "code",
   "execution_count": 280,
   "id": "fiscal-stockholm",
   "metadata": {},
   "outputs": [
    {
     "data": {
      "application/vnd.jupyter.widget-view+json": {
       "model_id": "b9448a0080cb456881970daa06bc00e4",
       "version_major": 2,
       "version_minor": 0
      },
      "text/plain": [
       "Summarize dataset:   0%|          | 0/19 [00:00<?, ?it/s]"
      ]
     },
     "metadata": {},
     "output_type": "display_data"
    },
    {
     "data": {
      "application/vnd.jupyter.widget-view+json": {
       "model_id": "fb206c2b525442a598c26ffe75d98c07",
       "version_major": 2,
       "version_minor": 0
      },
      "text/plain": [
       "Generate report structure:   0%|          | 0/1 [00:00<?, ?it/s]"
      ]
     },
     "metadata": {},
     "output_type": "display_data"
    },
    {
     "data": {
      "application/vnd.jupyter.widget-view+json": {
       "model_id": "e65bb2ebce5a423fbb67e7a1bdd0ff2a",
       "version_major": 2,
       "version_minor": 0
      },
      "text/plain": [
       "Render HTML:   0%|          | 0/1 [00:00<?, ?it/s]"
      ]
     },
     "metadata": {},
     "output_type": "display_data"
    },
    {
     "data": {
      "application/vnd.jupyter.widget-view+json": {
       "model_id": "af7129bb935246d585edfb01b7db5d6b",
       "version_major": 2,
       "version_minor": 0
      },
      "text/plain": [
       "Export report to file:   0%|          | 0/1 [00:00<?, ?it/s]"
      ]
     },
     "metadata": {},
     "output_type": "display_data"
    }
   ],
   "source": [
    "cropdf2profile = pandas_profiling.ProfileReport(cropdf2, title='cropdf2 Profiling Report', explorative=True)\n",
    "#displays the report directly in the notebook:\n",
    "#cropdf2profile.to_widgets()\n",
    "#due to a notebook size problem, generate as a separate HTML report instead: \n",
    "cropdf2profile.to_file(\"cropdf2profile.html\")"
   ]
  },
  {
   "cell_type": "markdown",
   "id": "innovative-symphony",
   "metadata": {},
   "source": [
    "[View Profile Report Here](cropdf2profile.html)"
   ]
  },
  {
   "cell_type": "markdown",
   "id": "adjacent-inspection",
   "metadata": {},
   "source": [
    "### Data Defining <a name=\"DataDefining\"></a>\n",
    "Data definitions for crop fields."
   ]
  },
  {
   "cell_type": "markdown",
   "id": "romance-israel",
   "metadata": {},
   "source": [
    "#### First crop df <a name=\"cropdf\"></a>"
   ]
  },
  {
   "cell_type": "code",
   "execution_count": 281,
   "id": "detected-antigua",
   "metadata": {},
   "outputs": [
    {
     "data": {
      "text/plain": [
       "49               float64\n",
       "h                 object\n",
       "Year               int64\n",
       "acreage           object\n",
       "per acre          object\n",
       "Utilized           int64\n",
       "Production 3/     object\n",
       "Shell             object\n",
       "Shelled           object\n",
       "per ton          float64\n",
       "Production         int64\n",
       "50               float64\n",
       "dtype: object"
      ]
     },
     "execution_count": 281,
     "metadata": {},
     "output_type": "execute_result"
    }
   ],
   "source": [
    "cropdf.dtypes"
   ]
  },
  {
   "cell_type": "code",
   "execution_count": 282,
   "id": "received-password",
   "metadata": {
    "scrolled": true
   },
   "outputs": [
    {
     "data": {
      "text/html": [
       "<div>\n",
       "<style scoped>\n",
       "    .dataframe tbody tr th:only-of-type {\n",
       "        vertical-align: middle;\n",
       "    }\n",
       "\n",
       "    .dataframe tbody tr th {\n",
       "        vertical-align: top;\n",
       "    }\n",
       "\n",
       "    .dataframe thead th {\n",
       "        text-align: right;\n",
       "    }\n",
       "</style>\n",
       "<table border=\"1\" class=\"dataframe\">\n",
       "  <thead>\n",
       "    <tr style=\"text-align: right;\">\n",
       "      <th></th>\n",
       "      <th>49</th>\n",
       "      <th>h</th>\n",
       "      <th>Year</th>\n",
       "      <th>acreage</th>\n",
       "      <th>per acre</th>\n",
       "      <th>Utilized</th>\n",
       "      <th>Production 3/</th>\n",
       "      <th>Shell</th>\n",
       "      <th>Shelled</th>\n",
       "      <th>per ton</th>\n",
       "      <th>Production</th>\n",
       "      <th>50</th>\n",
       "    </tr>\n",
       "  </thead>\n",
       "  <tbody>\n",
       "    <tr>\n",
       "      <th>0</th>\n",
       "      <td>49.0</td>\n",
       "      <td>d</td>\n",
       "      <td>1927</td>\n",
       "      <td>-</td>\n",
       "      <td>-</td>\n",
       "      <td>60</td>\n",
       "      <td>-</td>\n",
       "      <td>-</td>\n",
       "      <td>-</td>\n",
       "      <td>320.0</td>\n",
       "      <td>19</td>\n",
       "      <td>NaN</td>\n",
       "    </tr>\n",
       "    <tr>\n",
       "      <th>1</th>\n",
       "      <td>49.0</td>\n",
       "      <td>d</td>\n",
       "      <td>1928</td>\n",
       "      <td>-</td>\n",
       "      <td>-</td>\n",
       "      <td>200</td>\n",
       "      <td>-</td>\n",
       "      <td>-</td>\n",
       "      <td>-</td>\n",
       "      <td>380.0</td>\n",
       "      <td>76</td>\n",
       "      <td>NaN</td>\n",
       "    </tr>\n",
       "    <tr>\n",
       "      <th>2</th>\n",
       "      <td>49.0</td>\n",
       "      <td>d</td>\n",
       "      <td>1929</td>\n",
       "      <td>2000</td>\n",
       "      <td>0.10</td>\n",
       "      <td>200</td>\n",
       "      <td>-</td>\n",
       "      <td>-</td>\n",
       "      <td>-</td>\n",
       "      <td>300.0</td>\n",
       "      <td>60</td>\n",
       "      <td>NaN</td>\n",
       "    </tr>\n",
       "    <tr>\n",
       "      <th>3</th>\n",
       "      <td>49.0</td>\n",
       "      <td>d</td>\n",
       "      <td>1930</td>\n",
       "      <td>2500</td>\n",
       "      <td>0.12</td>\n",
       "      <td>300</td>\n",
       "      <td>-</td>\n",
       "      <td>-</td>\n",
       "      <td>-</td>\n",
       "      <td>340.0</td>\n",
       "      <td>102</td>\n",
       "      <td>NaN</td>\n",
       "    </tr>\n",
       "    <tr>\n",
       "      <th>4</th>\n",
       "      <td>49.0</td>\n",
       "      <td>d</td>\n",
       "      <td>1931</td>\n",
       "      <td>3100</td>\n",
       "      <td>0.12</td>\n",
       "      <td>380</td>\n",
       "      <td>-</td>\n",
       "      <td>-</td>\n",
       "      <td>-</td>\n",
       "      <td>250.0</td>\n",
       "      <td>95</td>\n",
       "      <td>NaN</td>\n",
       "    </tr>\n",
       "  </tbody>\n",
       "</table>\n",
       "</div>"
      ],
      "text/plain": [
       "     49  h  Year acreage per acre  Utilized Production 3/ Shell Shelled  \\\n",
       "0  49.0  d  1927       -        -        60             -     -       -   \n",
       "1  49.0  d  1928       -        -       200             -     -       -   \n",
       "2  49.0  d  1929    2000     0.10       200             -     -       -   \n",
       "3  49.0  d  1930    2500     0.12       300             -     -       -   \n",
       "4  49.0  d  1931    3100     0.12       380             -     -       -   \n",
       "\n",
       "   per ton  Production  50  \n",
       "0    320.0          19 NaN  \n",
       "1    380.0          76 NaN  \n",
       "2    300.0          60 NaN  \n",
       "3    340.0         102 NaN  \n",
       "4    250.0          95 NaN  "
      ]
     },
     "execution_count": 282,
     "metadata": {},
     "output_type": "execute_result"
    }
   ],
   "source": [
    "cropdf.head()"
   ]
  },
  {
   "cell_type": "code",
   "execution_count": 283,
   "id": "coastal-cincinnati",
   "metadata": {},
   "outputs": [],
   "source": [
    "#set data types\n",
    "c = cropdf.columns[cropdf.dtypes.eq('object')]\n",
    "cropdf[c] = cropdf[c].apply(pd.to_numeric, errors='coerce')"
   ]
  },
  {
   "cell_type": "code",
   "execution_count": 285,
   "id": "crazy-revision",
   "metadata": {},
   "outputs": [],
   "source": [
    "cropdf['Yield'] = cropdf['Utilized'] / cropdf['acreage']"
   ]
  },
  {
   "cell_type": "code",
   "execution_count": 286,
   "id": "sorted-medium",
   "metadata": {},
   "outputs": [],
   "source": [
    "#rows with no yield are not useful so drop them: \n",
    "cropdf.drop(cropdf[cropdf['Yield'].isnull()].index, inplace = True)"
   ]
  },
  {
   "cell_type": "code",
   "execution_count": 287,
   "id": "aging-begin",
   "metadata": {},
   "outputs": [],
   "source": [
    "#year should be our index because harvests are annual: \n",
    "cropdf.set_index('Year', inplace = True)"
   ]
  },
  {
   "cell_type": "code",
   "execution_count": 288,
   "id": "empty-letters",
   "metadata": {},
   "outputs": [
    {
     "data": {
      "text/html": [
       "<div>\n",
       "<style scoped>\n",
       "    .dataframe tbody tr th:only-of-type {\n",
       "        vertical-align: middle;\n",
       "    }\n",
       "\n",
       "    .dataframe tbody tr th {\n",
       "        vertical-align: top;\n",
       "    }\n",
       "\n",
       "    .dataframe thead th {\n",
       "        text-align: right;\n",
       "    }\n",
       "</style>\n",
       "<table border=\"1\" class=\"dataframe\">\n",
       "  <thead>\n",
       "    <tr style=\"text-align: right;\">\n",
       "      <th></th>\n",
       "      <th>49</th>\n",
       "      <th>h</th>\n",
       "      <th>acreage</th>\n",
       "      <th>per acre</th>\n",
       "      <th>Utilized</th>\n",
       "      <th>Production 3/</th>\n",
       "      <th>Shell</th>\n",
       "      <th>Shelled</th>\n",
       "      <th>per ton</th>\n",
       "      <th>Production</th>\n",
       "      <th>50</th>\n",
       "      <th>Yield</th>\n",
       "    </tr>\n",
       "    <tr>\n",
       "      <th>Year</th>\n",
       "      <th></th>\n",
       "      <th></th>\n",
       "      <th></th>\n",
       "      <th></th>\n",
       "      <th></th>\n",
       "      <th></th>\n",
       "      <th></th>\n",
       "      <th></th>\n",
       "      <th></th>\n",
       "      <th></th>\n",
       "      <th></th>\n",
       "      <th></th>\n",
       "    </tr>\n",
       "  </thead>\n",
       "  <tbody>\n",
       "    <tr>\n",
       "      <th>1929</th>\n",
       "      <td>49.0</td>\n",
       "      <td>NaN</td>\n",
       "      <td>2000.0</td>\n",
       "      <td>0.10</td>\n",
       "      <td>200</td>\n",
       "      <td>NaN</td>\n",
       "      <td>NaN</td>\n",
       "      <td>NaN</td>\n",
       "      <td>300.0</td>\n",
       "      <td>60</td>\n",
       "      <td>NaN</td>\n",
       "      <td>0.100000</td>\n",
       "    </tr>\n",
       "    <tr>\n",
       "      <th>1930</th>\n",
       "      <td>49.0</td>\n",
       "      <td>NaN</td>\n",
       "      <td>2500.0</td>\n",
       "      <td>0.12</td>\n",
       "      <td>300</td>\n",
       "      <td>NaN</td>\n",
       "      <td>NaN</td>\n",
       "      <td>NaN</td>\n",
       "      <td>340.0</td>\n",
       "      <td>102</td>\n",
       "      <td>NaN</td>\n",
       "      <td>0.120000</td>\n",
       "    </tr>\n",
       "    <tr>\n",
       "      <th>1931</th>\n",
       "      <td>49.0</td>\n",
       "      <td>NaN</td>\n",
       "      <td>3100.0</td>\n",
       "      <td>0.12</td>\n",
       "      <td>380</td>\n",
       "      <td>NaN</td>\n",
       "      <td>NaN</td>\n",
       "      <td>NaN</td>\n",
       "      <td>250.0</td>\n",
       "      <td>95</td>\n",
       "      <td>NaN</td>\n",
       "      <td>0.122581</td>\n",
       "    </tr>\n",
       "    <tr>\n",
       "      <th>1932</th>\n",
       "      <td>49.0</td>\n",
       "      <td>NaN</td>\n",
       "      <td>3700.0</td>\n",
       "      <td>0.11</td>\n",
       "      <td>400</td>\n",
       "      <td>NaN</td>\n",
       "      <td>NaN</td>\n",
       "      <td>NaN</td>\n",
       "      <td>200.0</td>\n",
       "      <td>80</td>\n",
       "      <td>NaN</td>\n",
       "      <td>0.108108</td>\n",
       "    </tr>\n",
       "    <tr>\n",
       "      <th>1933</th>\n",
       "      <td>49.0</td>\n",
       "      <td>NaN</td>\n",
       "      <td>4300.0</td>\n",
       "      <td>0.22</td>\n",
       "      <td>930</td>\n",
       "      <td>NaN</td>\n",
       "      <td>NaN</td>\n",
       "      <td>NaN</td>\n",
       "      <td>300.0</td>\n",
       "      <td>279</td>\n",
       "      <td>NaN</td>\n",
       "      <td>0.216279</td>\n",
       "    </tr>\n",
       "    <tr>\n",
       "      <th>2004</th>\n",
       "      <td>NaN</td>\n",
       "      <td>NaN</td>\n",
       "      <td>28400.0</td>\n",
       "      <td>1.32</td>\n",
       "      <td>37500</td>\n",
       "      <td>5900.0</td>\n",
       "      <td>22000.0</td>\n",
       "      <td>15500.0</td>\n",
       "      <td>1440.0</td>\n",
       "      <td>54000</td>\n",
       "      <td>50.0</td>\n",
       "      <td>1.320423</td>\n",
       "    </tr>\n",
       "    <tr>\n",
       "      <th>2005</th>\n",
       "      <td>NaN</td>\n",
       "      <td>NaN</td>\n",
       "      <td>28300.0</td>\n",
       "      <td>0.98</td>\n",
       "      <td>27600</td>\n",
       "      <td>4900.0</td>\n",
       "      <td>14600.0</td>\n",
       "      <td>13000.0</td>\n",
       "      <td>2240.0</td>\n",
       "      <td>61824</td>\n",
       "      <td>50.0</td>\n",
       "      <td>0.975265</td>\n",
       "    </tr>\n",
       "    <tr>\n",
       "      <th>2006</th>\n",
       "      <td>NaN</td>\n",
       "      <td>NaN</td>\n",
       "      <td>28200.0</td>\n",
       "      <td>1.52</td>\n",
       "      <td>43000</td>\n",
       "      <td>8200.0</td>\n",
       "      <td>24000.0</td>\n",
       "      <td>19000.0</td>\n",
       "      <td>1080.0</td>\n",
       "      <td>46440</td>\n",
       "      <td>50.0</td>\n",
       "      <td>1.524823</td>\n",
       "    </tr>\n",
       "    <tr>\n",
       "      <th>2007</th>\n",
       "      <td>NaN</td>\n",
       "      <td>NaN</td>\n",
       "      <td>28600.0</td>\n",
       "      <td>1.29</td>\n",
       "      <td>37000</td>\n",
       "      <td>4800.0</td>\n",
       "      <td>24900.0</td>\n",
       "      <td>12100.0</td>\n",
       "      <td>2040.0</td>\n",
       "      <td>75480</td>\n",
       "      <td>50.0</td>\n",
       "      <td>1.293706</td>\n",
       "    </tr>\n",
       "    <tr>\n",
       "      <th>2008</th>\n",
       "      <td>NaN</td>\n",
       "      <td>NaN</td>\n",
       "      <td>28400.0</td>\n",
       "      <td>1.13</td>\n",
       "      <td>32000</td>\n",
       "      <td>4000.0</td>\n",
       "      <td>22400.0</td>\n",
       "      <td>9600.0</td>\n",
       "      <td>1620.0</td>\n",
       "      <td>51840</td>\n",
       "      <td>50.0</td>\n",
       "      <td>1.126761</td>\n",
       "    </tr>\n",
       "  </tbody>\n",
       "</table>\n",
       "</div>"
      ],
      "text/plain": [
       "        49   h  acreage  per acre  Utilized  Production 3/    Shell  Shelled  \\\n",
       "Year                                                                           \n",
       "1929  49.0 NaN   2000.0      0.10       200            NaN      NaN      NaN   \n",
       "1930  49.0 NaN   2500.0      0.12       300            NaN      NaN      NaN   \n",
       "1931  49.0 NaN   3100.0      0.12       380            NaN      NaN      NaN   \n",
       "1932  49.0 NaN   3700.0      0.11       400            NaN      NaN      NaN   \n",
       "1933  49.0 NaN   4300.0      0.22       930            NaN      NaN      NaN   \n",
       "2004   NaN NaN  28400.0      1.32     37500         5900.0  22000.0  15500.0   \n",
       "2005   NaN NaN  28300.0      0.98     27600         4900.0  14600.0  13000.0   \n",
       "2006   NaN NaN  28200.0      1.52     43000         8200.0  24000.0  19000.0   \n",
       "2007   NaN NaN  28600.0      1.29     37000         4800.0  24900.0  12100.0   \n",
       "2008   NaN NaN  28400.0      1.13     32000         4000.0  22400.0   9600.0   \n",
       "\n",
       "      per ton  Production    50     Yield  \n",
       "Year                                       \n",
       "1929    300.0          60   NaN  0.100000  \n",
       "1930    340.0         102   NaN  0.120000  \n",
       "1931    250.0          95   NaN  0.122581  \n",
       "1932    200.0          80   NaN  0.108108  \n",
       "1933    300.0         279   NaN  0.216279  \n",
       "2004   1440.0       54000  50.0  1.320423  \n",
       "2005   2240.0       61824  50.0  0.975265  \n",
       "2006   1080.0       46440  50.0  1.524823  \n",
       "2007   2040.0       75480  50.0  1.293706  \n",
       "2008   1620.0       51840  50.0  1.126761  "
      ]
     },
     "execution_count": 288,
     "metadata": {},
     "output_type": "execute_result"
    }
   ],
   "source": [
    "cropdf.head().append(cropdf.tail())"
   ]
  },
  {
   "cell_type": "markdown",
   "id": "valuable-diploma",
   "metadata": {},
   "source": [
    "#### Second crop df <a name=\"cropdf2\"></a>"
   ]
  },
  {
   "cell_type": "code",
   "execution_count": 289,
   "id": "rough-mumbai",
   "metadata": {},
   "outputs": [
    {
     "data": {
      "text/plain": [
       "year        object\n",
       "Area        object\n",
       "Yield       object\n",
       "Utilized    object\n",
       "Price       object\n",
       "dtype: object"
      ]
     },
     "execution_count": 289,
     "metadata": {},
     "output_type": "execute_result"
    }
   ],
   "source": [
    "cropdf2.dtypes"
   ]
  },
  {
   "cell_type": "code",
   "execution_count": 290,
   "id": "appreciated-singles",
   "metadata": {},
   "outputs": [
    {
     "data": {
      "text/html": [
       "<div>\n",
       "<style scoped>\n",
       "    .dataframe tbody tr th:only-of-type {\n",
       "        vertical-align: middle;\n",
       "    }\n",
       "\n",
       "    .dataframe tbody tr th {\n",
       "        vertical-align: top;\n",
       "    }\n",
       "\n",
       "    .dataframe thead th {\n",
       "        text-align: right;\n",
       "    }\n",
       "</style>\n",
       "<table border=\"1\" class=\"dataframe\">\n",
       "  <thead>\n",
       "    <tr style=\"text-align: right;\">\n",
       "      <th></th>\n",
       "      <th>year</th>\n",
       "      <th>Area</th>\n",
       "      <th>Yield</th>\n",
       "      <th>Utilized</th>\n",
       "      <th>Price</th>\n",
       "    </tr>\n",
       "  </thead>\n",
       "  <tbody>\n",
       "    <tr>\n",
       "      <th>0</th>\n",
       "      <td>(years)</td>\n",
       "      <td>(acres)</td>\n",
       "      <td>(tons)</td>\n",
       "      <td>(tons)</td>\n",
       "      <td>(dollars per ton)</td>\n",
       "    </tr>\n",
       "    <tr>\n",
       "      <th>1</th>\n",
       "      <td>2011</td>\n",
       "      <td>28,500</td>\n",
       "      <td>1.35</td>\n",
       "      <td>38,500</td>\n",
       "      <td>2,330</td>\n",
       "    </tr>\n",
       "    <tr>\n",
       "      <th>2</th>\n",
       "      <td>2012</td>\n",
       "      <td>29,000</td>\n",
       "      <td>1.22</td>\n",
       "      <td>35,500</td>\n",
       "      <td>1,830</td>\n",
       "    </tr>\n",
       "    <tr>\n",
       "      <th>3</th>\n",
       "      <td>2013</td>\n",
       "      <td>30,000</td>\n",
       "      <td>1.50</td>\n",
       "      <td>45,000</td>\n",
       "      <td>2,680</td>\n",
       "    </tr>\n",
       "    <tr>\n",
       "      <th>4</th>\n",
       "      <td>2014</td>\n",
       "      <td>30,000</td>\n",
       "      <td>1.20</td>\n",
       "      <td>36,000</td>\n",
       "      <td>3,600</td>\n",
       "    </tr>\n",
       "  </tbody>\n",
       "</table>\n",
       "</div>"
      ],
      "text/plain": [
       "      year     Area   Yield Utilized              Price\n",
       "0  (years)  (acres)  (tons)   (tons)  (dollars per ton)\n",
       "1     2011   28,500    1.35   38,500              2,330\n",
       "2     2012   29,000    1.22   35,500              1,830\n",
       "3     2013   30,000    1.50   45,000              2,680\n",
       "4     2014   30,000    1.20   36,000              3,600"
      ]
     },
     "execution_count": 290,
     "metadata": {},
     "output_type": "execute_result"
    }
   ],
   "source": [
    "cropdf2.head()"
   ]
  },
  {
   "cell_type": "code",
   "execution_count": 291,
   "id": "numeric-timer",
   "metadata": {},
   "outputs": [],
   "source": [
    "c = cropdf2.columns[cropdf2.dtypes.eq('object')]\n",
    "cropdf2[c] = cropdf2[c].apply(pd.to_numeric, errors='coerce')"
   ]
  },
  {
   "cell_type": "code",
   "execution_count": 292,
   "id": "urban-religious",
   "metadata": {},
   "outputs": [
    {
     "data": {
      "text/html": [
       "<div>\n",
       "<style scoped>\n",
       "    .dataframe tbody tr th:only-of-type {\n",
       "        vertical-align: middle;\n",
       "    }\n",
       "\n",
       "    .dataframe tbody tr th {\n",
       "        vertical-align: top;\n",
       "    }\n",
       "\n",
       "    .dataframe thead th {\n",
       "        text-align: right;\n",
       "    }\n",
       "</style>\n",
       "<table border=\"1\" class=\"dataframe\">\n",
       "  <thead>\n",
       "    <tr style=\"text-align: right;\">\n",
       "      <th></th>\n",
       "      <th>year</th>\n",
       "      <th>Area</th>\n",
       "      <th>Yield</th>\n",
       "      <th>Utilized</th>\n",
       "      <th>Price</th>\n",
       "    </tr>\n",
       "  </thead>\n",
       "  <tbody>\n",
       "    <tr>\n",
       "      <th>0</th>\n",
       "      <td>NaN</td>\n",
       "      <td>NaN</td>\n",
       "      <td>NaN</td>\n",
       "      <td>NaN</td>\n",
       "      <td>NaN</td>\n",
       "    </tr>\n",
       "    <tr>\n",
       "      <th>1</th>\n",
       "      <td>2011.0</td>\n",
       "      <td>NaN</td>\n",
       "      <td>1.35</td>\n",
       "      <td>NaN</td>\n",
       "      <td>NaN</td>\n",
       "    </tr>\n",
       "    <tr>\n",
       "      <th>2</th>\n",
       "      <td>2012.0</td>\n",
       "      <td>NaN</td>\n",
       "      <td>1.22</td>\n",
       "      <td>NaN</td>\n",
       "      <td>NaN</td>\n",
       "    </tr>\n",
       "    <tr>\n",
       "      <th>3</th>\n",
       "      <td>2013.0</td>\n",
       "      <td>NaN</td>\n",
       "      <td>1.50</td>\n",
       "      <td>NaN</td>\n",
       "      <td>NaN</td>\n",
       "    </tr>\n",
       "    <tr>\n",
       "      <th>4</th>\n",
       "      <td>2014.0</td>\n",
       "      <td>NaN</td>\n",
       "      <td>1.20</td>\n",
       "      <td>NaN</td>\n",
       "      <td>NaN</td>\n",
       "    </tr>\n",
       "  </tbody>\n",
       "</table>\n",
       "</div>"
      ],
      "text/plain": [
       "     year  Area  Yield  Utilized  Price\n",
       "0     NaN   NaN    NaN       NaN    NaN\n",
       "1  2011.0   NaN   1.35       NaN    NaN\n",
       "2  2012.0   NaN   1.22       NaN    NaN\n",
       "3  2013.0   NaN   1.50       NaN    NaN\n",
       "4  2014.0   NaN   1.20       NaN    NaN"
      ]
     },
     "execution_count": 292,
     "metadata": {},
     "output_type": "execute_result"
    }
   ],
   "source": [
    "cropdf2.head()"
   ]
  },
  {
   "cell_type": "markdown",
   "id": "subjective-dubai",
   "metadata": {},
   "source": [
    "We lost our data in some columns so let's try again."
   ]
  },
  {
   "cell_type": "code",
   "execution_count": 293,
   "id": "activated-migration",
   "metadata": {},
   "outputs": [],
   "source": [
    "cropdf2 = pd.read_pickle(\"../data/raw/crop2.pkl\")"
   ]
  },
  {
   "cell_type": "code",
   "execution_count": 294,
   "id": "novel-cursor",
   "metadata": {},
   "outputs": [],
   "source": [
    "#drop the first row, as it contains unwanted values\n",
    "cleanedcropdf2 = cropdf2.drop([0])"
   ]
  },
  {
   "cell_type": "markdown",
   "id": "temporal-england",
   "metadata": {},
   "source": [
    "We can fill in the NAs on the tail of the data with this [source](https://www.capitalpress.com/ag_sectors/orchards_nuts_vines/usda-predicts-record-hazelnut-crop-in-oregon/article_d1a7ed70-e880-11ea-b0b8-e3dc8b4015c5.html)"
   ]
  },
  {
   "cell_type": "code",
   "execution_count": 295,
   "id": "appointed-latino",
   "metadata": {},
   "outputs": [],
   "source": [
    "#manually fill in the last row with a valid value.\n",
    "cleanedcropdf2.loc[10,['Area', 'Price']] = '60,000', '0,000'"
   ]
  },
  {
   "cell_type": "code",
   "execution_count": 296,
   "id": "appropriate-trade",
   "metadata": {},
   "outputs": [
    {
     "data": {
      "text/html": [
       "<div>\n",
       "<style scoped>\n",
       "    .dataframe tbody tr th:only-of-type {\n",
       "        vertical-align: middle;\n",
       "    }\n",
       "\n",
       "    .dataframe tbody tr th {\n",
       "        vertical-align: top;\n",
       "    }\n",
       "\n",
       "    .dataframe thead th {\n",
       "        text-align: right;\n",
       "    }\n",
       "</style>\n",
       "<table border=\"1\" class=\"dataframe\">\n",
       "  <thead>\n",
       "    <tr style=\"text-align: right;\">\n",
       "      <th></th>\n",
       "      <th>year</th>\n",
       "      <th>Area</th>\n",
       "      <th>Yield</th>\n",
       "      <th>Utilized</th>\n",
       "      <th>Price</th>\n",
       "    </tr>\n",
       "  </thead>\n",
       "  <tbody>\n",
       "    <tr>\n",
       "      <th>1</th>\n",
       "      <td>2011</td>\n",
       "      <td>28,500</td>\n",
       "      <td>1.35</td>\n",
       "      <td>38,500</td>\n",
       "      <td>2,330</td>\n",
       "    </tr>\n",
       "    <tr>\n",
       "      <th>2</th>\n",
       "      <td>2012</td>\n",
       "      <td>29,000</td>\n",
       "      <td>1.22</td>\n",
       "      <td>35,500</td>\n",
       "      <td>1,830</td>\n",
       "    </tr>\n",
       "    <tr>\n",
       "      <th>3</th>\n",
       "      <td>2013</td>\n",
       "      <td>30,000</td>\n",
       "      <td>1.50</td>\n",
       "      <td>45,000</td>\n",
       "      <td>2,680</td>\n",
       "    </tr>\n",
       "    <tr>\n",
       "      <th>4</th>\n",
       "      <td>2014</td>\n",
       "      <td>30,000</td>\n",
       "      <td>1.20</td>\n",
       "      <td>36,000</td>\n",
       "      <td>3,600</td>\n",
       "    </tr>\n",
       "    <tr>\n",
       "      <th>5</th>\n",
       "      <td>2015</td>\n",
       "      <td>34,000</td>\n",
       "      <td>0.91</td>\n",
       "      <td>31,000</td>\n",
       "      <td>2,800</td>\n",
       "    </tr>\n",
       "    <tr>\n",
       "      <th>6</th>\n",
       "      <td>2016</td>\n",
       "      <td>37,000</td>\n",
       "      <td>1.19</td>\n",
       "      <td>44,000</td>\n",
       "      <td>2,700</td>\n",
       "    </tr>\n",
       "    <tr>\n",
       "      <th>7</th>\n",
       "      <td>2017</td>\n",
       "      <td>40,000</td>\n",
       "      <td>0.80</td>\n",
       "      <td>32,000</td>\n",
       "      <td>2,300</td>\n",
       "    </tr>\n",
       "    <tr>\n",
       "      <th>8</th>\n",
       "      <td>2018</td>\n",
       "      <td>44,000</td>\n",
       "      <td>1.16</td>\n",
       "      <td>51,000</td>\n",
       "      <td>1,800</td>\n",
       "    </tr>\n",
       "    <tr>\n",
       "      <th>9</th>\n",
       "      <td>2019</td>\n",
       "      <td>50,000</td>\n",
       "      <td>0.88</td>\n",
       "      <td>44,000</td>\n",
       "      <td>1,920</td>\n",
       "    </tr>\n",
       "    <tr>\n",
       "      <th>10</th>\n",
       "      <td>2020</td>\n",
       "      <td>60,000</td>\n",
       "      <td>(NA)</td>\n",
       "      <td>71,000</td>\n",
       "      <td>0,000</td>\n",
       "    </tr>\n",
       "  </tbody>\n",
       "</table>\n",
       "</div>"
      ],
      "text/plain": [
       "    year    Area Yield Utilized  Price\n",
       "1   2011  28,500  1.35   38,500  2,330\n",
       "2   2012  29,000  1.22   35,500  1,830\n",
       "3   2013  30,000  1.50   45,000  2,680\n",
       "4   2014  30,000  1.20   36,000  3,600\n",
       "5   2015  34,000  0.91   31,000  2,800\n",
       "6   2016  37,000  1.19   44,000  2,700\n",
       "7   2017  40,000  0.80   32,000  2,300\n",
       "8   2018  44,000  1.16   51,000  1,800\n",
       "9   2019  50,000  0.88   44,000  1,920\n",
       "10  2020  60,000  (NA)   71,000  0,000"
      ]
     },
     "execution_count": 296,
     "metadata": {},
     "output_type": "execute_result"
    }
   ],
   "source": [
    "cleanedcropdf2.replace(',', 'notacomma')"
   ]
  },
  {
   "cell_type": "markdown",
   "id": "proud-logan",
   "metadata": {},
   "source": [
    "The [docs](https://pandas.pydata.org/docs/reference/api/pandas.DataFrame.replace.html) show you can use df.replace in exactly that way but it appears not to work so lets try another way: "
   ]
  },
  {
   "cell_type": "code",
   "execution_count": 297,
   "id": "supreme-teddy",
   "metadata": {},
   "outputs": [],
   "source": [
    "commas = ['Area', 'Utilized', 'Price']"
   ]
  },
  {
   "cell_type": "code",
   "execution_count": 298,
   "id": "pointed-divide",
   "metadata": {},
   "outputs": [
    {
     "ename": "TypeError",
     "evalue": "replace expected at least 2 arguments, got 1",
     "output_type": "error",
     "traceback": [
      "\u001b[0;31m---------------------------------------------------------------------------\u001b[0m",
      "\u001b[0;31mTypeError\u001b[0m                                 Traceback (most recent call last)",
      "\u001b[0;32m<ipython-input-298-0efb7e1c6948>\u001b[0m in \u001b[0;36m<module>\u001b[0;34m\u001b[0m\n\u001b[0;32m----> 1\u001b[0;31m \u001b[0mcleanedcropdf2\u001b[0m\u001b[0;34m[\u001b[0m\u001b[0mcommas\u001b[0m\u001b[0;34m]\u001b[0m \u001b[0;34m=\u001b[0m \u001b[0mcleanedcropdf2\u001b[0m\u001b[0;34m[\u001b[0m\u001b[0mcommas\u001b[0m\u001b[0;34m]\u001b[0m\u001b[0;34m.\u001b[0m\u001b[0mapply\u001b[0m\u001b[0;34m(\u001b[0m\u001b[0mstr\u001b[0m\u001b[0;34m.\u001b[0m\u001b[0mreplace\u001b[0m\u001b[0;34m(\u001b[0m\u001b[0;34m','\u001b[0m\u001b[0;34m,\u001b[0m \u001b[0;34m''\u001b[0m\u001b[0;34m)\u001b[0m\u001b[0;34m.\u001b[0m\u001b[0mastype\u001b[0m\u001b[0;34m(\u001b[0m\u001b[0mfloat\u001b[0m\u001b[0;34m)\u001b[0m\u001b[0;34m)\u001b[0m\u001b[0;34m\u001b[0m\u001b[0;34m\u001b[0m\u001b[0m\n\u001b[0m",
      "\u001b[0;31mTypeError\u001b[0m: replace expected at least 2 arguments, got 1"
     ]
    }
   ],
   "source": [
    "cleanedcropdf2[commas] = cleanedcropdf2[commas].apply(str.replace(',', '').astype(float))"
   ]
  },
  {
   "cell_type": "markdown",
   "id": "beautiful-hardwood",
   "metadata": {},
   "source": [
    "Replace did get 2 arguments but claims it got 1. Let's try another way: "
   ]
  },
  {
   "cell_type": "code",
   "execution_count": 299,
   "id": "champion-cable",
   "metadata": {},
   "outputs": [],
   "source": [
    "def nocommas(x):\n",
    "    return x.str.replace(',', '').astype(float)\n",
    "cleanedcropdf2[commas] = cleanedcropdf2[commas].apply(nocommas)"
   ]
  },
  {
   "cell_type": "code",
   "execution_count": 300,
   "id": "improved-honey",
   "metadata": {},
   "outputs": [
    {
     "data": {
      "text/html": [
       "<div>\n",
       "<style scoped>\n",
       "    .dataframe tbody tr th:only-of-type {\n",
       "        vertical-align: middle;\n",
       "    }\n",
       "\n",
       "    .dataframe tbody tr th {\n",
       "        vertical-align: top;\n",
       "    }\n",
       "\n",
       "    .dataframe thead th {\n",
       "        text-align: right;\n",
       "    }\n",
       "</style>\n",
       "<table border=\"1\" class=\"dataframe\">\n",
       "  <thead>\n",
       "    <tr style=\"text-align: right;\">\n",
       "      <th></th>\n",
       "      <th>year</th>\n",
       "      <th>Area</th>\n",
       "      <th>Yield</th>\n",
       "      <th>Utilized</th>\n",
       "      <th>Price</th>\n",
       "    </tr>\n",
       "  </thead>\n",
       "  <tbody>\n",
       "    <tr>\n",
       "      <th>1</th>\n",
       "      <td>2011</td>\n",
       "      <td>28500.0</td>\n",
       "      <td>1.35</td>\n",
       "      <td>38500.0</td>\n",
       "      <td>2330.0</td>\n",
       "    </tr>\n",
       "    <tr>\n",
       "      <th>2</th>\n",
       "      <td>2012</td>\n",
       "      <td>29000.0</td>\n",
       "      <td>1.22</td>\n",
       "      <td>35500.0</td>\n",
       "      <td>1830.0</td>\n",
       "    </tr>\n",
       "    <tr>\n",
       "      <th>3</th>\n",
       "      <td>2013</td>\n",
       "      <td>30000.0</td>\n",
       "      <td>1.50</td>\n",
       "      <td>45000.0</td>\n",
       "      <td>2680.0</td>\n",
       "    </tr>\n",
       "    <tr>\n",
       "      <th>4</th>\n",
       "      <td>2014</td>\n",
       "      <td>30000.0</td>\n",
       "      <td>1.20</td>\n",
       "      <td>36000.0</td>\n",
       "      <td>3600.0</td>\n",
       "    </tr>\n",
       "    <tr>\n",
       "      <th>5</th>\n",
       "      <td>2015</td>\n",
       "      <td>34000.0</td>\n",
       "      <td>0.91</td>\n",
       "      <td>31000.0</td>\n",
       "      <td>2800.0</td>\n",
       "    </tr>\n",
       "    <tr>\n",
       "      <th>6</th>\n",
       "      <td>2016</td>\n",
       "      <td>37000.0</td>\n",
       "      <td>1.19</td>\n",
       "      <td>44000.0</td>\n",
       "      <td>2700.0</td>\n",
       "    </tr>\n",
       "    <tr>\n",
       "      <th>7</th>\n",
       "      <td>2017</td>\n",
       "      <td>40000.0</td>\n",
       "      <td>0.80</td>\n",
       "      <td>32000.0</td>\n",
       "      <td>2300.0</td>\n",
       "    </tr>\n",
       "    <tr>\n",
       "      <th>8</th>\n",
       "      <td>2018</td>\n",
       "      <td>44000.0</td>\n",
       "      <td>1.16</td>\n",
       "      <td>51000.0</td>\n",
       "      <td>1800.0</td>\n",
       "    </tr>\n",
       "    <tr>\n",
       "      <th>9</th>\n",
       "      <td>2019</td>\n",
       "      <td>50000.0</td>\n",
       "      <td>0.88</td>\n",
       "      <td>44000.0</td>\n",
       "      <td>1920.0</td>\n",
       "    </tr>\n",
       "    <tr>\n",
       "      <th>10</th>\n",
       "      <td>2020</td>\n",
       "      <td>60000.0</td>\n",
       "      <td>(NA)</td>\n",
       "      <td>71000.0</td>\n",
       "      <td>0.0</td>\n",
       "    </tr>\n",
       "  </tbody>\n",
       "</table>\n",
       "</div>"
      ],
      "text/plain": [
       "    year     Area Yield  Utilized   Price\n",
       "1   2011  28500.0  1.35   38500.0  2330.0\n",
       "2   2012  29000.0  1.22   35500.0  1830.0\n",
       "3   2013  30000.0  1.50   45000.0  2680.0\n",
       "4   2014  30000.0  1.20   36000.0  3600.0\n",
       "5   2015  34000.0  0.91   31000.0  2800.0\n",
       "6   2016  37000.0  1.19   44000.0  2700.0\n",
       "7   2017  40000.0  0.80   32000.0  2300.0\n",
       "8   2018  44000.0  1.16   51000.0  1800.0\n",
       "9   2019  50000.0  0.88   44000.0  1920.0\n",
       "10  2020  60000.0  (NA)   71000.0     0.0"
      ]
     },
     "execution_count": 300,
     "metadata": {},
     "output_type": "execute_result"
    }
   ],
   "source": [
    "cleanedcropdf2"
   ]
  },
  {
   "cell_type": "code",
   "execution_count": 301,
   "id": "everyday-harvest",
   "metadata": {},
   "outputs": [],
   "source": [
    "#convert columns to numeric\n",
    "c = cleanedcropdf2.columns[cleanedcropdf2.dtypes.eq('object')]\n",
    "cleanedcropdf2[c] = cleanedcropdf2[c].apply(pd.to_numeric, errors='coerce')"
   ]
  },
  {
   "cell_type": "code",
   "execution_count": 302,
   "id": "patent-fundamentals",
   "metadata": {},
   "outputs": [
    {
     "data": {
      "text/html": [
       "<div>\n",
       "<style scoped>\n",
       "    .dataframe tbody tr th:only-of-type {\n",
       "        vertical-align: middle;\n",
       "    }\n",
       "\n",
       "    .dataframe tbody tr th {\n",
       "        vertical-align: top;\n",
       "    }\n",
       "\n",
       "    .dataframe thead th {\n",
       "        text-align: right;\n",
       "    }\n",
       "</style>\n",
       "<table border=\"1\" class=\"dataframe\">\n",
       "  <thead>\n",
       "    <tr style=\"text-align: right;\">\n",
       "      <th></th>\n",
       "      <th>year</th>\n",
       "      <th>Area</th>\n",
       "      <th>Yield</th>\n",
       "      <th>Utilized</th>\n",
       "      <th>Price</th>\n",
       "    </tr>\n",
       "  </thead>\n",
       "  <tbody>\n",
       "    <tr>\n",
       "      <th>1</th>\n",
       "      <td>2011</td>\n",
       "      <td>28500.0</td>\n",
       "      <td>1.35</td>\n",
       "      <td>38500.0</td>\n",
       "      <td>2330.0</td>\n",
       "    </tr>\n",
       "    <tr>\n",
       "      <th>2</th>\n",
       "      <td>2012</td>\n",
       "      <td>29000.0</td>\n",
       "      <td>1.22</td>\n",
       "      <td>35500.0</td>\n",
       "      <td>1830.0</td>\n",
       "    </tr>\n",
       "    <tr>\n",
       "      <th>3</th>\n",
       "      <td>2013</td>\n",
       "      <td>30000.0</td>\n",
       "      <td>1.50</td>\n",
       "      <td>45000.0</td>\n",
       "      <td>2680.0</td>\n",
       "    </tr>\n",
       "    <tr>\n",
       "      <th>4</th>\n",
       "      <td>2014</td>\n",
       "      <td>30000.0</td>\n",
       "      <td>1.20</td>\n",
       "      <td>36000.0</td>\n",
       "      <td>3600.0</td>\n",
       "    </tr>\n",
       "    <tr>\n",
       "      <th>5</th>\n",
       "      <td>2015</td>\n",
       "      <td>34000.0</td>\n",
       "      <td>0.91</td>\n",
       "      <td>31000.0</td>\n",
       "      <td>2800.0</td>\n",
       "    </tr>\n",
       "    <tr>\n",
       "      <th>6</th>\n",
       "      <td>2016</td>\n",
       "      <td>37000.0</td>\n",
       "      <td>1.19</td>\n",
       "      <td>44000.0</td>\n",
       "      <td>2700.0</td>\n",
       "    </tr>\n",
       "    <tr>\n",
       "      <th>7</th>\n",
       "      <td>2017</td>\n",
       "      <td>40000.0</td>\n",
       "      <td>0.80</td>\n",
       "      <td>32000.0</td>\n",
       "      <td>2300.0</td>\n",
       "    </tr>\n",
       "    <tr>\n",
       "      <th>8</th>\n",
       "      <td>2018</td>\n",
       "      <td>44000.0</td>\n",
       "      <td>1.16</td>\n",
       "      <td>51000.0</td>\n",
       "      <td>1800.0</td>\n",
       "    </tr>\n",
       "    <tr>\n",
       "      <th>9</th>\n",
       "      <td>2019</td>\n",
       "      <td>50000.0</td>\n",
       "      <td>0.88</td>\n",
       "      <td>44000.0</td>\n",
       "      <td>1920.0</td>\n",
       "    </tr>\n",
       "    <tr>\n",
       "      <th>10</th>\n",
       "      <td>2020</td>\n",
       "      <td>60000.0</td>\n",
       "      <td>NaN</td>\n",
       "      <td>71000.0</td>\n",
       "      <td>0.0</td>\n",
       "    </tr>\n",
       "  </tbody>\n",
       "</table>\n",
       "</div>"
      ],
      "text/plain": [
       "    year     Area  Yield  Utilized   Price\n",
       "1   2011  28500.0   1.35   38500.0  2330.0\n",
       "2   2012  29000.0   1.22   35500.0  1830.0\n",
       "3   2013  30000.0   1.50   45000.0  2680.0\n",
       "4   2014  30000.0   1.20   36000.0  3600.0\n",
       "5   2015  34000.0   0.91   31000.0  2800.0\n",
       "6   2016  37000.0   1.19   44000.0  2700.0\n",
       "7   2017  40000.0   0.80   32000.0  2300.0\n",
       "8   2018  44000.0   1.16   51000.0  1800.0\n",
       "9   2019  50000.0   0.88   44000.0  1920.0\n",
       "10  2020  60000.0    NaN   71000.0     0.0"
      ]
     },
     "execution_count": 302,
     "metadata": {},
     "output_type": "execute_result"
    }
   ],
   "source": [
    "cleanedcropdf2"
   ]
  },
  {
   "cell_type": "code",
   "execution_count": 303,
   "id": "under-dining",
   "metadata": {
    "scrolled": true
   },
   "outputs": [
    {
     "data": {
      "text/html": [
       "<div>\n",
       "<style scoped>\n",
       "    .dataframe tbody tr th:only-of-type {\n",
       "        vertical-align: middle;\n",
       "    }\n",
       "\n",
       "    .dataframe tbody tr th {\n",
       "        vertical-align: top;\n",
       "    }\n",
       "\n",
       "    .dataframe thead th {\n",
       "        text-align: right;\n",
       "    }\n",
       "</style>\n",
       "<table border=\"1\" class=\"dataframe\">\n",
       "  <thead>\n",
       "    <tr style=\"text-align: right;\">\n",
       "      <th></th>\n",
       "      <th>year</th>\n",
       "      <th>Area</th>\n",
       "      <th>Yield</th>\n",
       "      <th>Utilized</th>\n",
       "      <th>Price</th>\n",
       "    </tr>\n",
       "  </thead>\n",
       "  <tbody>\n",
       "    <tr>\n",
       "      <th>1</th>\n",
       "      <td>2011</td>\n",
       "      <td>28500.0</td>\n",
       "      <td>1.350877</td>\n",
       "      <td>38500.0</td>\n",
       "      <td>2330.0</td>\n",
       "    </tr>\n",
       "    <tr>\n",
       "      <th>2</th>\n",
       "      <td>2012</td>\n",
       "      <td>29000.0</td>\n",
       "      <td>1.224138</td>\n",
       "      <td>35500.0</td>\n",
       "      <td>1830.0</td>\n",
       "    </tr>\n",
       "    <tr>\n",
       "      <th>3</th>\n",
       "      <td>2013</td>\n",
       "      <td>30000.0</td>\n",
       "      <td>1.500000</td>\n",
       "      <td>45000.0</td>\n",
       "      <td>2680.0</td>\n",
       "    </tr>\n",
       "    <tr>\n",
       "      <th>4</th>\n",
       "      <td>2014</td>\n",
       "      <td>30000.0</td>\n",
       "      <td>1.200000</td>\n",
       "      <td>36000.0</td>\n",
       "      <td>3600.0</td>\n",
       "    </tr>\n",
       "    <tr>\n",
       "      <th>5</th>\n",
       "      <td>2015</td>\n",
       "      <td>34000.0</td>\n",
       "      <td>0.911765</td>\n",
       "      <td>31000.0</td>\n",
       "      <td>2800.0</td>\n",
       "    </tr>\n",
       "    <tr>\n",
       "      <th>6</th>\n",
       "      <td>2016</td>\n",
       "      <td>37000.0</td>\n",
       "      <td>1.189189</td>\n",
       "      <td>44000.0</td>\n",
       "      <td>2700.0</td>\n",
       "    </tr>\n",
       "    <tr>\n",
       "      <th>7</th>\n",
       "      <td>2017</td>\n",
       "      <td>40000.0</td>\n",
       "      <td>0.800000</td>\n",
       "      <td>32000.0</td>\n",
       "      <td>2300.0</td>\n",
       "    </tr>\n",
       "    <tr>\n",
       "      <th>8</th>\n",
       "      <td>2018</td>\n",
       "      <td>44000.0</td>\n",
       "      <td>1.159091</td>\n",
       "      <td>51000.0</td>\n",
       "      <td>1800.0</td>\n",
       "    </tr>\n",
       "    <tr>\n",
       "      <th>9</th>\n",
       "      <td>2019</td>\n",
       "      <td>50000.0</td>\n",
       "      <td>0.880000</td>\n",
       "      <td>44000.0</td>\n",
       "      <td>1920.0</td>\n",
       "    </tr>\n",
       "    <tr>\n",
       "      <th>10</th>\n",
       "      <td>2020</td>\n",
       "      <td>60000.0</td>\n",
       "      <td>1.183333</td>\n",
       "      <td>71000.0</td>\n",
       "      <td>0.0</td>\n",
       "    </tr>\n",
       "  </tbody>\n",
       "</table>\n",
       "</div>"
      ],
      "text/plain": [
       "    year     Area     Yield  Utilized   Price\n",
       "1   2011  28500.0  1.350877   38500.0  2330.0\n",
       "2   2012  29000.0  1.224138   35500.0  1830.0\n",
       "3   2013  30000.0  1.500000   45000.0  2680.0\n",
       "4   2014  30000.0  1.200000   36000.0  3600.0\n",
       "5   2015  34000.0  0.911765   31000.0  2800.0\n",
       "6   2016  37000.0  1.189189   44000.0  2700.0\n",
       "7   2017  40000.0  0.800000   32000.0  2300.0\n",
       "8   2018  44000.0  1.159091   51000.0  1800.0\n",
       "9   2019  50000.0  0.880000   44000.0  1920.0\n",
       "10  2020  60000.0  1.183333   71000.0     0.0"
      ]
     },
     "execution_count": 303,
     "metadata": {},
     "output_type": "execute_result"
    }
   ],
   "source": [
    "cleanedcropdf2['Yield'] = cleanedcropdf2['Utilized'] / cleanedcropdf2['Area']\n",
    "cleanedcropdf2"
   ]
  },
  {
   "cell_type": "markdown",
   "id": "lasting-edition",
   "metadata": {},
   "source": [
    "We really only need a table with year as the index and yield as the only column."
   ]
  },
  {
   "cell_type": "code",
   "execution_count": 304,
   "id": "desirable-chest",
   "metadata": {},
   "outputs": [
    {
     "data": {
      "text/html": [
       "<div>\n",
       "<style scoped>\n",
       "    .dataframe tbody tr th:only-of-type {\n",
       "        vertical-align: middle;\n",
       "    }\n",
       "\n",
       "    .dataframe tbody tr th {\n",
       "        vertical-align: top;\n",
       "    }\n",
       "\n",
       "    .dataframe thead th {\n",
       "        text-align: right;\n",
       "    }\n",
       "</style>\n",
       "<table border=\"1\" class=\"dataframe\">\n",
       "  <thead>\n",
       "    <tr style=\"text-align: right;\">\n",
       "      <th></th>\n",
       "      <th>Yield</th>\n",
       "    </tr>\n",
       "    <tr>\n",
       "      <th>year</th>\n",
       "      <th></th>\n",
       "    </tr>\n",
       "  </thead>\n",
       "  <tbody>\n",
       "    <tr>\n",
       "      <th>2011</th>\n",
       "      <td>1.350877</td>\n",
       "    </tr>\n",
       "    <tr>\n",
       "      <th>2012</th>\n",
       "      <td>1.224138</td>\n",
       "    </tr>\n",
       "    <tr>\n",
       "      <th>2013</th>\n",
       "      <td>1.500000</td>\n",
       "    </tr>\n",
       "    <tr>\n",
       "      <th>2014</th>\n",
       "      <td>1.200000</td>\n",
       "    </tr>\n",
       "    <tr>\n",
       "      <th>2015</th>\n",
       "      <td>0.911765</td>\n",
       "    </tr>\n",
       "    <tr>\n",
       "      <th>2016</th>\n",
       "      <td>1.189189</td>\n",
       "    </tr>\n",
       "    <tr>\n",
       "      <th>2017</th>\n",
       "      <td>0.800000</td>\n",
       "    </tr>\n",
       "    <tr>\n",
       "      <th>2018</th>\n",
       "      <td>1.159091</td>\n",
       "    </tr>\n",
       "    <tr>\n",
       "      <th>2019</th>\n",
       "      <td>0.880000</td>\n",
       "    </tr>\n",
       "    <tr>\n",
       "      <th>2020</th>\n",
       "      <td>1.183333</td>\n",
       "    </tr>\n",
       "  </tbody>\n",
       "</table>\n",
       "</div>"
      ],
      "text/plain": [
       "         Yield\n",
       "year          \n",
       "2011  1.350877\n",
       "2012  1.224138\n",
       "2013  1.500000\n",
       "2014  1.200000\n",
       "2015  0.911765\n",
       "2016  1.189189\n",
       "2017  0.800000\n",
       "2018  1.159091\n",
       "2019  0.880000\n",
       "2020  1.183333"
      ]
     },
     "execution_count": 304,
     "metadata": {},
     "output_type": "execute_result"
    }
   ],
   "source": [
    "harvests = pd.DataFrame.from_records(data= cleanedcropdf2[['year','Yield']], index = 'year')\n",
    "harvests"
   ]
  },
  {
   "cell_type": "markdown",
   "id": "derived-consolidation",
   "metadata": {},
   "source": [
    "And to combine it with the other df"
   ]
  },
  {
   "cell_type": "code",
   "execution_count": 305,
   "id": "strategic-multiple",
   "metadata": {},
   "outputs": [],
   "source": [
    "#rename to match other\n",
    "harvests.index.names = ['Year']\n",
    "harvests = pd.concat([harvests['Yield'], cropdf['Yield']]).sort_index()"
   ]
  },
  {
   "cell_type": "code",
   "execution_count": 306,
   "id": "crude-northern",
   "metadata": {},
   "outputs": [
    {
     "data": {
      "text/plain": [
       "Year\n",
       "1929    0.100000\n",
       "1930    0.120000\n",
       "1931    0.122581\n",
       "1932    0.108108\n",
       "1933    0.216279\n",
       "          ...   \n",
       "2016    1.189189\n",
       "2017    0.800000\n",
       "2018    1.159091\n",
       "2019    0.880000\n",
       "2020    1.183333\n",
       "Name: Yield, Length: 90, dtype: float64"
      ]
     },
     "execution_count": 306,
     "metadata": {},
     "output_type": "execute_result"
    }
   ],
   "source": [
    "harvests"
   ]
  },
  {
   "cell_type": "markdown",
   "id": "stunning-collins",
   "metadata": {},
   "source": [
    "We've got 90 harvests, indexed by year. Data types have been corrected. Yield was calculated to be bearing acreage divided by \"utilized\" in-shell production in tons and we've decided that will be the only column we export to be combined in the next notebook with transformed weather data. "
   ]
  },
  {
   "cell_type": "markdown",
   "id": "blank-separation",
   "metadata": {},
   "source": [
    "#### Exporting data <a name=\"Exportingdata\"></a>"
   ]
  },
  {
   "cell_type": "code",
   "execution_count": 307,
   "id": "centered-performance",
   "metadata": {},
   "outputs": [],
   "source": [
    "harvests.to_pickle(\"../data/interim/harvests.pkl\")"
   ]
  },
  {
   "cell_type": "markdown",
   "id": "lucky-welding",
   "metadata": {},
   "source": [
    "Work will continue in [Notebook4](cap2_NB04.ipynb) where we will transform the data. "
   ]
  },
  {
   "cell_type": "code",
   "execution_count": 308,
   "id": "separate-estate",
   "metadata": {},
   "outputs": [
    {
     "name": "stdout",
     "output_type": "stream",
     "text": [
      "total 75472\r\n",
      "-rw-r--r--@ 1 bem  staff    20M Apr 30 17:52 cap2_NB01.ipynb\r\n",
      "-rw-r--r--@ 1 bem  staff   150K Apr 30 17:36 cap2_NB02.ipynb\r\n",
      "-rw-r--r--@ 1 bem  staff    34K Apr 30 21:47 cap2_NB03.ipynb\r\n",
      "-rw-r--r--  1 bem  staff   640K Apr 30 21:46 cropdf2profile.html\r\n",
      "-rw-r--r--  1 bem  staff   1.3M Apr 30 21:46 cropdfprofile.html\r\n",
      "-rw-r--r--  1 bem  staff    15M Apr 30 15:16 weatherdfprofile.html\r\n"
     ]
    }
   ],
   "source": [
    "#verify files are < 100MB, due to a .ipynb size issue: \n",
    "!ls -lh"
   ]
  }
 ],
 "metadata": {
  "kernelspec": {
   "display_name": "Python 3",
   "language": "python",
   "name": "python3"
  },
  "language_info": {
   "codemirror_mode": {
    "name": "ipython",
    "version": 3
   },
   "file_extension": ".py",
   "mimetype": "text/x-python",
   "name": "python",
   "nbconvert_exporter": "python",
   "pygments_lexer": "ipython3",
   "version": "3.9.2"
  }
 },
 "nbformat": 4,
 "nbformat_minor": 5
}