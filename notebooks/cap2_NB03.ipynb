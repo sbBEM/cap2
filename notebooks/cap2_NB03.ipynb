{
 "cells": [
  {
   "cell_type": "markdown",
   "id": "after-result",
   "metadata": {},
   "source": [
    "# How is US hazelnut production affected by inter-annual weather variation in the Willamette Valley of Oregon?"
   ]
  },
  {
   "cell_type": "markdown",
   "id": "armed-elite",
   "metadata": {},
   "source": [
    "[Previous Notebook](cap2_NB02.ipynb)\n",
    "# Notebook3\n",
    "If you are viewing on Git, the links below may not work; for that or other issues try the [alternate render](https://nbviewer.jupyter.org/github/sbBEM/cap2/blob/master/cap2_NB03.ipynb).\n",
    "\n",
    "Table of contents\n",
    "- [Importing](#Importing)\n",
    "- [Cleaning](#Cleaning)\n",
    "    - [Profiling](#Profiling)\n",
    "    - [Data Defining](#DataDefining)\n",
    "    - [Correcting Anomalies](#CorrectingAnomalies)\n",
    "    - [Filling Empty Values](#FillingEmptyValues)\n",
    "\n",
    "[Next Notebook](cap2_NB04.ipynb)\n",
    "\n",
    "- [Transforming](cap2_NB04.ipynb#Transforming)\n",
    "- [Visualizing](cap2_NB04.ipynb#Visualizing)\n",
    "- [Modeling](cap2_NB04.ipynb#Modeling)\n",
    "- [Evaluating](cap2_NB04.ipynb#Evaluating)\n",
    "- [Concluding](cap2_NB04.ipynb#Concluding)"
   ]
  },
  {
   "cell_type": "markdown",
   "id": "hybrid-soundtrack",
   "metadata": {},
   "source": [
    "The previous notebook focused on cleaning the weather data. Here we will clean the two crop data files and merge them. "
   ]
  },
  {
   "cell_type": "markdown",
   "id": "intensive-premiere",
   "metadata": {},
   "source": [
    "## Importing <a name=\"Importing\"></a>"
   ]
  },
  {
   "cell_type": "markdown",
   "id": "complete-murder",
   "metadata": {},
   "source": [
    "Load python modules"
   ]
  },
  {
   "cell_type": "code",
   "execution_count": 1,
   "id": "charming-gathering",
   "metadata": {},
   "outputs": [],
   "source": [
    "import matplotlib as mpl\n",
    "import numpy as np\n",
    "import pandas as pd\n",
    "#import google.cloud.bigquery as bq\n",
    "import matplotlib.pyplot as plt\n",
    "#from mpl_toolkits.basemap import Basemap\n",
    "#from io import BytesIO\n",
    "#from zipfile import ZipFile\n",
    "#import requests\n",
    "#from IPython.core.display import display, HTML\n",
    "#import tabula\n",
    "import pandas_profiling\n",
    "from pandas_profiling.utils.cache import cache_file"
   ]
  },
  {
   "cell_type": "markdown",
   "id": "prompt-locator",
   "metadata": {},
   "source": [
    "Activate jupyter extentions"
   ]
  },
  {
   "cell_type": "code",
   "execution_count": 2,
   "id": "former-buying",
   "metadata": {},
   "outputs": [],
   "source": [
    "#%load_ext google.cloud.bigquery\n",
    "%load_ext autoreload\n",
    "%autoreload 2"
   ]
  },
  {
   "cell_type": "markdown",
   "id": "criminal-airline",
   "metadata": {},
   "source": [
    "Bring in the data from previous notebook."
   ]
  },
  {
   "cell_type": "code",
   "execution_count": 3,
   "id": "irish-academy",
   "metadata": {},
   "outputs": [],
   "source": [
    "#weatherdf = pd.read_pickle(\"../data/weather.pkl\")\n",
    "#our_stations = pd.read_pickle(\"../data/station.pkl\")\n",
    "cropdf = pd.read_pickle(\"../data/crop.pkl\")\n",
    "cropdf2 = pd.read_pickle(\"../data/crop2.pkl\")\n",
    "#region_points.read_pickle(\"../data/region.pkl\")"
   ]
  },
  {
   "cell_type": "markdown",
   "id": "earlier-stupid",
   "metadata": {},
   "source": [
    "## Cleaning <a name=\"Cleaning\"></a>"
   ]
  },
  {
   "cell_type": "markdown",
   "id": "hearing-retrieval",
   "metadata": {},
   "source": [
    "### Profiling <a name=\"Profiling\"></a>"
   ]
  },
  {
   "cell_type": "code",
   "execution_count": 4,
   "id": "subsequent-highland",
   "metadata": {},
   "outputs": [
    {
     "data": {
      "text/html": [
       "<div>\n",
       "<style scoped>\n",
       "    .dataframe tbody tr th:only-of-type {\n",
       "        vertical-align: middle;\n",
       "    }\n",
       "\n",
       "    .dataframe tbody tr th {\n",
       "        vertical-align: top;\n",
       "    }\n",
       "\n",
       "    .dataframe thead th {\n",
       "        text-align: right;\n",
       "    }\n",
       "</style>\n",
       "<table border=\"1\" class=\"dataframe\">\n",
       "  <thead>\n",
       "    <tr style=\"text-align: right;\">\n",
       "      <th></th>\n",
       "      <th>49</th>\n",
       "      <th>Year</th>\n",
       "      <th>Utilized</th>\n",
       "      <th>per ton</th>\n",
       "      <th>Production</th>\n",
       "      <th>50</th>\n",
       "    </tr>\n",
       "  </thead>\n",
       "  <tbody>\n",
       "    <tr>\n",
       "      <th>count</th>\n",
       "      <td>50.0</td>\n",
       "      <td>82.000000</td>\n",
       "      <td>82.000000</td>\n",
       "      <td>82.000000</td>\n",
       "      <td>82.000000</td>\n",
       "      <td>32.0</td>\n",
       "    </tr>\n",
       "    <tr>\n",
       "      <th>mean</th>\n",
       "      <td>49.0</td>\n",
       "      <td>1967.500000</td>\n",
       "      <td>13285.853659</td>\n",
       "      <td>603.426829</td>\n",
       "      <td>11198.890244</td>\n",
       "      <td>50.0</td>\n",
       "    </tr>\n",
       "    <tr>\n",
       "      <th>std</th>\n",
       "      <td>0.0</td>\n",
       "      <td>23.815261</td>\n",
       "      <td>12191.606802</td>\n",
       "      <td>378.754490</td>\n",
       "      <td>15566.805948</td>\n",
       "      <td>0.0</td>\n",
       "    </tr>\n",
       "    <tr>\n",
       "      <th>min</th>\n",
       "      <td>49.0</td>\n",
       "      <td>1927.000000</td>\n",
       "      <td>60.000000</td>\n",
       "      <td>200.000000</td>\n",
       "      <td>19.000000</td>\n",
       "      <td>50.0</td>\n",
       "    </tr>\n",
       "    <tr>\n",
       "      <th>25%</th>\n",
       "      <td>49.0</td>\n",
       "      <td>1947.250000</td>\n",
       "      <td>5387.500000</td>\n",
       "      <td>344.500000</td>\n",
       "      <td>1955.750000</td>\n",
       "      <td>50.0</td>\n",
       "    </tr>\n",
       "    <tr>\n",
       "      <th>50%</th>\n",
       "      <td>49.0</td>\n",
       "      <td>1967.500000</td>\n",
       "      <td>9125.000000</td>\n",
       "      <td>514.000000</td>\n",
       "      <td>3765.500000</td>\n",
       "      <td>50.0</td>\n",
       "    </tr>\n",
       "    <tr>\n",
       "      <th>75%</th>\n",
       "      <td>49.0</td>\n",
       "      <td>1987.750000</td>\n",
       "      <td>17875.000000</td>\n",
       "      <td>785.250000</td>\n",
       "      <td>15096.500000</td>\n",
       "      <td>50.0</td>\n",
       "    </tr>\n",
       "    <tr>\n",
       "      <th>max</th>\n",
       "      <td>49.0</td>\n",
       "      <td>2008.000000</td>\n",
       "      <td>49500.000000</td>\n",
       "      <td>2240.000000</td>\n",
       "      <td>75480.000000</td>\n",
       "      <td>50.0</td>\n",
       "    </tr>\n",
       "  </tbody>\n",
       "</table>\n",
       "</div>"
      ],
      "text/plain": [
       "         49         Year      Utilized      per ton    Production    50\n",
       "count  50.0    82.000000     82.000000    82.000000     82.000000  32.0\n",
       "mean   49.0  1967.500000  13285.853659   603.426829  11198.890244  50.0\n",
       "std     0.0    23.815261  12191.606802   378.754490  15566.805948   0.0\n",
       "min    49.0  1927.000000     60.000000   200.000000     19.000000  50.0\n",
       "25%    49.0  1947.250000   5387.500000   344.500000   1955.750000  50.0\n",
       "50%    49.0  1967.500000   9125.000000   514.000000   3765.500000  50.0\n",
       "75%    49.0  1987.750000  17875.000000   785.250000  15096.500000  50.0\n",
       "max    49.0  2008.000000  49500.000000  2240.000000  75480.000000  50.0"
      ]
     },
     "execution_count": 4,
     "metadata": {},
     "output_type": "execute_result"
    }
   ],
   "source": [
    "cropdf.describe()"
   ]
  },
  {
   "cell_type": "code",
   "execution_count": 5,
   "id": "seasonal-amino",
   "metadata": {},
   "outputs": [
    {
     "data": {
      "text/html": [
       "<div>\n",
       "<style scoped>\n",
       "    .dataframe tbody tr th:only-of-type {\n",
       "        vertical-align: middle;\n",
       "    }\n",
       "\n",
       "    .dataframe tbody tr th {\n",
       "        vertical-align: top;\n",
       "    }\n",
       "\n",
       "    .dataframe thead th {\n",
       "        text-align: right;\n",
       "    }\n",
       "</style>\n",
       "<table border=\"1\" class=\"dataframe\">\n",
       "  <thead>\n",
       "    <tr style=\"text-align: right;\">\n",
       "      <th></th>\n",
       "      <th>year</th>\n",
       "      <th>Area</th>\n",
       "      <th>Yield</th>\n",
       "      <th>Utilized</th>\n",
       "      <th>Price</th>\n",
       "    </tr>\n",
       "  </thead>\n",
       "  <tbody>\n",
       "    <tr>\n",
       "      <th>count</th>\n",
       "      <td>11</td>\n",
       "      <td>11</td>\n",
       "      <td>11</td>\n",
       "      <td>11</td>\n",
       "      <td>11</td>\n",
       "    </tr>\n",
       "    <tr>\n",
       "      <th>unique</th>\n",
       "      <td>11</td>\n",
       "      <td>10</td>\n",
       "      <td>11</td>\n",
       "      <td>10</td>\n",
       "      <td>11</td>\n",
       "    </tr>\n",
       "    <tr>\n",
       "      <th>top</th>\n",
       "      <td>2016</td>\n",
       "      <td>30,000</td>\n",
       "      <td>(NA)</td>\n",
       "      <td>44,000</td>\n",
       "      <td>2,680</td>\n",
       "    </tr>\n",
       "    <tr>\n",
       "      <th>freq</th>\n",
       "      <td>1</td>\n",
       "      <td>2</td>\n",
       "      <td>1</td>\n",
       "      <td>2</td>\n",
       "      <td>1</td>\n",
       "    </tr>\n",
       "  </tbody>\n",
       "</table>\n",
       "</div>"
      ],
      "text/plain": [
       "        year    Area Yield Utilized  Price\n",
       "count     11      11    11       11     11\n",
       "unique    11      10    11       10     11\n",
       "top     2016  30,000  (NA)   44,000  2,680\n",
       "freq       1       2     1        2      1"
      ]
     },
     "execution_count": 5,
     "metadata": {},
     "output_type": "execute_result"
    }
   ],
   "source": [
    "cropdf2.describe()"
   ]
  },
  {
   "cell_type": "markdown",
   "id": "peaceful-occupation",
   "metadata": {},
   "source": [
    "We want to build data definitions to describe the features in the datasets to identify any issues that will require cleaning. We'll try the Pandas profiling module. "
   ]
  },
  {
   "cell_type": "code",
   "execution_count": 6,
   "id": "danish-scheduling",
   "metadata": {},
   "outputs": [
    {
     "name": "stderr",
     "output_type": "stream",
     "text": [
      "Summarize dataset: 100%|██████████| 26/26 [00:04<00:00,  5.25it/s, Completed] \n",
      "Generate report structure: 100%|██████████| 1/1 [00:02<00:00,  2.34s/it]\n",
      "Render HTML: 100%|██████████| 1/1 [00:00<00:00,  1.87it/s]\n",
      "Export report to file: 100%|██████████| 1/1 [00:00<00:00, 320.00it/s]\n"
     ]
    }
   ],
   "source": [
    "cropdfprofile = pandas_profiling.ProfileReport(cropdf, title='cropdf Profiling Report', explorative=True)\n",
    "#displays the report directly in the notebook:\n",
    "#cropdfprofile.to_widgets()\n",
    "#due to a notebook size problem, generate as a separate HTML report instead: \n",
    "cropdfprofile.to_file(\"cropdfprofile.html\")"
   ]
  },
  {
   "cell_type": "markdown",
   "id": "brazilian-basics",
   "metadata": {},
   "source": [
    "[View Profile Report Here](cropdfprofile.html)"
   ]
  },
  {
   "cell_type": "code",
   "execution_count": 7,
   "id": "fiscal-stockholm",
   "metadata": {},
   "outputs": [
    {
     "name": "stderr",
     "output_type": "stream",
     "text": [
      "Summarize dataset: 100%|██████████| 19/19 [00:00<00:00, 37.39it/s, Completed]\n",
      "Generate report structure: 100%|██████████| 1/1 [00:01<00:00,  1.45s/it]\n",
      "Render HTML: 100%|██████████| 1/1 [00:00<00:00,  4.68it/s]\n",
      "Export report to file: 100%|██████████| 1/1 [00:00<00:00, 563.67it/s]\n"
     ]
    }
   ],
   "source": [
    "cropdf2profile = pandas_profiling.ProfileReport(cropdf2, title='cropdf2 Profiling Report', explorative=True)\n",
    "#displays the report directly in the notebook:\n",
    "#cropdf2profile.to_widgets()\n",
    "#due to a notebook size problem, generate as a separate HTML report instead: \n",
    "cropdf2profile.to_file(\"cropdf2profile.html\")"
   ]
  },
  {
   "cell_type": "markdown",
   "id": "focal-colon",
   "metadata": {},
   "source": [
    "[View Profile Report Here](cropdf2profile.html)"
   ]
  },
  {
   "cell_type": "markdown",
   "id": "adjacent-inspection",
   "metadata": {},
   "source": [
    "### Data Defining <a name=\"DataDefining\"></a>\n",
    "Data definitions for crop fields."
   ]
  },
  {
   "cell_type": "code",
   "execution_count": 8,
   "id": "detected-antigua",
   "metadata": {},
   "outputs": [],
   "source": [
    "#Let's bring some organization to our list of crop fields. \n",
    "cfields = { }"
   ]
  },
  {
   "cell_type": "markdown",
   "id": "flying-litigation",
   "metadata": {},
   "source": [
    "### Correcting Outliers/Anomalies <a name=\"CorrectingAnomalies\"></a>"
   ]
  },
  {
   "cell_type": "markdown",
   "id": "established-wayne",
   "metadata": {},
   "source": [
    "### Filling Empty Values <a name=\"FillingEmptyValues\"></a>"
   ]
  },
  {
   "cell_type": "code",
   "execution_count": null,
   "id": "voluntary-space",
   "metadata": {},
   "outputs": [],
   "source": []
  },
  {
   "cell_type": "code",
   "execution_count": 2,
   "id": "separate-estate",
   "metadata": {},
   "outputs": [
    {
     "name": "stdout",
     "output_type": "stream",
     "text": [
      "total 78552\r\n",
      "-rw-r--r--@ 1 bem  staff    16M Apr 30 14:44 cap2_NB01.ipynb\r\n",
      "-rw-r--r--@ 1 bem  staff   5.1M Apr 30 15:07 cap2_NB02.ipynb\r\n",
      "-rw-r--r--@ 1 bem  staff    15K Apr 30 15:08 cap2_NB03.ipynb\r\n",
      "-rw-r--r--  1 bem  staff   640K Apr 30 14:46 cropdf2profile.html\r\n",
      "-rw-r--r--  1 bem  staff   1.3M Apr 30 14:46 cropdfprofile.html\r\n",
      "-rw-r--r--  1 bem  staff    15M Apr 30 14:41 weatherdfprofile.html\r\n"
     ]
    }
   ],
   "source": [
    "#verify files are < 100MB, due to a .ipynb size issue: \n",
    "!ls -lh"
   ]
  },
  {
   "cell_type": "code",
   "execution_count": null,
   "id": "reported-shame",
   "metadata": {},
   "outputs": [],
   "source": []
  }
 ],
 "metadata": {
  "kernelspec": {
   "display_name": "Python 3",
   "language": "python",
   "name": "python3"
  },
  "language_info": {
   "codemirror_mode": {
    "name": "ipython",
    "version": 3
   },
   "file_extension": ".py",
   "mimetype": "text/x-python",
   "name": "python",
   "nbconvert_exporter": "python",
   "pygments_lexer": "ipython3",
   "version": "3.9.2"
  }
 },
 "nbformat": 4,
 "nbformat_minor": 5
}
