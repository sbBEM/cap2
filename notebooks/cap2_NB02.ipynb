{
 "cells": [
  {
   "cell_type": "markdown",
   "id": "after-result",
   "metadata": {},
   "source": [
    "# How is US hazelnut production affected by inter-annual weather variation in the Willamette Valley of Oregon?"
   ]
  },
  {
   "cell_type": "markdown",
   "id": "armed-elite",
   "metadata": {},
   "source": [
    "[Previous Notebook](cap2_NB01.ipynb)\n",
    "# Notebook2\n",
    "Table of contents\n",
    "- [Importing](#Importing)\n",
    "- [Cleaning](#Cleaning)\n",
    "- [Transforming](#Transforming)\n",
    "- [Visualizing](#Visualizing)\n",
    "- [Modeling](#Modeling)\n",
    "- [Evaluating](#Evaluating)\n",
    "- [Concluding](#Concluding)\n",
    "\n",
    "[Next Notebook](cap2_NB03.ipynb)"
   ]
  },
  {
   "cell_type": "markdown",
   "id": "intensive-premiere",
   "metadata": {},
   "source": [
    "## Importing <a name=\"Importing\"></a>\n",
    "Bring in the data from previous notebook"
   ]
  },
  {
   "cell_type": "code",
   "execution_count": 3,
   "id": "irish-academy",
   "metadata": {},
   "outputs": [
    {
     "ename": "NameError",
     "evalue": "name 'weatherdf' is not defined",
     "output_type": "error",
     "traceback": [
      "\u001b[0;31m---------------------------------------------------------------------------\u001b[0m",
      "\u001b[0;31mNameError\u001b[0m                                 Traceback (most recent call last)",
      "\u001b[0;32m<ipython-input-3-d608eda92e7a>\u001b[0m in \u001b[0;36m<module>\u001b[0;34m\u001b[0m\n\u001b[0;32m----> 1\u001b[0;31m \u001b[0mweatherdf\u001b[0m\u001b[0;34m.\u001b[0m\u001b[0mread_pickle\u001b[0m\u001b[0;34m(\u001b[0m\u001b[0;34m\"../data/weather.pkl\"\u001b[0m\u001b[0;34m)\u001b[0m\u001b[0;34m\u001b[0m\u001b[0;34m\u001b[0m\u001b[0m\n\u001b[0m\u001b[1;32m      2\u001b[0m \u001b[0mour_stations\u001b[0m\u001b[0;34m.\u001b[0m\u001b[0mread_pickle\u001b[0m\u001b[0;34m(\u001b[0m\u001b[0;34m\"../data/station.pkl\"\u001b[0m\u001b[0;34m)\u001b[0m\u001b[0;34m\u001b[0m\u001b[0;34m\u001b[0m\u001b[0m\n\u001b[1;32m      3\u001b[0m \u001b[0mcropdf\u001b[0m\u001b[0;34m.\u001b[0m\u001b[0mread_pickle\u001b[0m\u001b[0;34m(\u001b[0m\u001b[0;34m\"../data/crop.pkl\"\u001b[0m\u001b[0;34m)\u001b[0m\u001b[0;34m\u001b[0m\u001b[0;34m\u001b[0m\u001b[0m\n\u001b[1;32m      4\u001b[0m \u001b[0mregion_points\u001b[0m\u001b[0;34m.\u001b[0m\u001b[0mread_pickle\u001b[0m\u001b[0;34m(\u001b[0m\u001b[0;34m\"../data/region\"\u001b[0m\u001b[0;34m)\u001b[0m\u001b[0;34m\u001b[0m\u001b[0;34m\u001b[0m\u001b[0m\n",
      "\u001b[0;31mNameError\u001b[0m: name 'weatherdf' is not defined"
     ]
    }
   ],
   "source": [
    "weatherdf.read_pickle(\"../data/weather.pkl\")\n",
    "our_stations.read_pickle(\"../data/station.pkl\")\n",
    "cropdf.read_pickle(\"../data/crop.pkl\")\n",
    "#region_points.read_pickle(\"../data/region.pkl\")"
   ]
  },
  {
   "cell_type": "code",
   "execution_count": null,
   "id": "involved-validity",
   "metadata": {},
   "outputs": [],
   "source": []
  },
  {
   "cell_type": "markdown",
   "id": "amateur-dominican",
   "metadata": {},
   "source": [
    "We want to build data definitions to describe the features in the datasets to identify any issues that will require cleaning. We'll use Pandas profiling module. "
   ]
  },
  {
   "cell_type": "code",
   "execution_count": 5,
   "id": "headed-smart",
   "metadata": {},
   "outputs": [
    {
     "ename": "SyntaxError",
     "evalue": "invalid syntax (<ipython-input-5-d57f39eac6b6>, line 1)",
     "output_type": "error",
     "traceback": [
      "\u001b[0;36m  File \u001b[0;32m\"<ipython-input-5-d57f39eac6b6>\"\u001b[0;36m, line \u001b[0;32m1\u001b[0m\n\u001b[0;31m    Pandas profiling module:\u001b[0m\n\u001b[0m           ^\u001b[0m\n\u001b[0;31mSyntaxError\u001b[0m\u001b[0;31m:\u001b[0m invalid syntax\n"
     ]
    }
   ],
   "source": [
    "profile = ProfileReport(df, title='Pandas Profiling Report', explorative=True)\n",
    "profile.to_widgets()"
   ]
  }
 ],
 "metadata": {
  "kernelspec": {
   "display_name": "Python 3",
   "language": "python",
   "name": "python3"
  },
  "language_info": {
   "codemirror_mode": {
    "name": "ipython",
    "version": 3
   },
   "file_extension": ".py",
   "mimetype": "text/x-python",
   "name": "python",
   "nbconvert_exporter": "python",
   "pygments_lexer": "ipython3",
   "version": "3.9.2"
  },
  "widgets": {
   "application/vnd.jupyter.widget-state+json": {
    "state": {},
    "version_major": 2,
    "version_minor": 0
   }
  }
 },
 "nbformat": 4,
 "nbformat_minor": 5
}
