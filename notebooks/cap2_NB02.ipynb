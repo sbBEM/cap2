{
 "cells": [
  {
   "cell_type": "markdown",
   "id": "after-result",
   "metadata": {},
   "source": [
    "# How is US hazelnut production affected by inter-annual weather variation in the Willamette Valley of Oregon?"
   ]
  },
  {
   "cell_type": "markdown",
   "id": "armed-elite",
   "metadata": {},
   "source": [
    "[Previous Notebook](cap2_NB01.ipynb)\n",
    "# Notebook2\n",
    "If you are viewing on Git, the links below may not work; for that or other issues try the [alternate render](https://nbviewer.jupyter.org/github/sbBEM/cap2/blob/master/notebooks/cap2_NB02.ipynb).\n",
    "\n",
    "Table of contents\n",
    "- [Importing](#Importing)\n",
    "- [Cleaning(weather)](#Cleaning)\n",
    "    - [Profiling](#Profiling)\n",
    "    - [Data Defining](#DataDefining)\n",
    "    - [Correcting Anomalies](#CorrectingAnomalies)\n",
    "    - [Filling Empty Values](#FillingEmptyValues)\n",
    "- [Exporting data](#Exportingdata)\n",
    "\n",
    "[Next Notebook](cap2_NB03.ipynb)\n",
    "\n",
    "- [Cleaning (crops)](cap2_NB03.ipynb#Cleaning)\n",
    "- [Transforming](cap2_NB04.ipynb#Transforming)\n",
    "- [Visualizing](cap2_NB04.ipynb#Visualizing)\n",
    "- [Modeling](cap2_NB04.ipynb#Modeling)\n",
    "- [Evaluating](cap2_NB04.ipynb#Evaluating)\n",
    "- [Concluding](cap2_NB04.ipynb#Concluding)"
   ]
  },
  {
   "cell_type": "markdown",
   "id": "hybrid-soundtrack",
   "metadata": {},
   "source": [
    "The previous notebook focused on data collection. \n",
    "This notebook will focus on data definitions and cleaning of the weather data. "
   ]
  },
  {
   "cell_type": "markdown",
   "id": "intensive-premiere",
   "metadata": {},
   "source": [
    "## Importing <a name=\"Importing\"></a>"
   ]
  },
  {
   "cell_type": "markdown",
   "id": "complete-murder",
   "metadata": {},
   "source": [
    "Load python modules"
   ]
  },
  {
   "cell_type": "code",
   "execution_count": 2,
   "id": "charming-gathering",
   "metadata": {},
   "outputs": [],
   "source": [
    "import matplotlib as mpl\n",
    "import numpy as np\n",
    "import pandas as pd\n",
    "#import google.cloud.bigquery as bq\n",
    "import matplotlib.pyplot as plt\n",
    "#from mpl_toolkits.basemap import Basemap\n",
    "#from io import BytesIO\n",
    "#from zipfile import ZipFile\n",
    "#import requests\n",
    "#from IPython.core.display import display, HTML\n",
    "#import tabula\n",
    "import pandas_profiling\n",
    "from pandas_profiling.utils.cache import cache_file"
   ]
  },
  {
   "cell_type": "markdown",
   "id": "prompt-locator",
   "metadata": {},
   "source": [
    "Activate jupyter extentions"
   ]
  },
  {
   "cell_type": "code",
   "execution_count": 3,
   "id": "former-buying",
   "metadata": {},
   "outputs": [],
   "source": [
    "#%load_ext google.cloud.bigquery\n",
    "%load_ext autoreload\n",
    "%autoreload 2"
   ]
  },
  {
   "cell_type": "markdown",
   "id": "criminal-airline",
   "metadata": {},
   "source": [
    "Bring in the data from previous notebook."
   ]
  },
  {
   "cell_type": "code",
   "execution_count": 4,
   "id": "irish-academy",
   "metadata": {},
   "outputs": [],
   "source": [
    "weatherdf = pd.read_pickle(\"../data/raw/weather.pkl\")\n",
    "#our_stations = pd.read_pickle(\"../data/station.pkl\")\n",
    "#cropdf = pd.read_pickle(\"../data/crop.pkl\")\n",
    "#cropdf2 = pd.read_pickle(\"../data/crop2.pkl\")\n",
    "#region_points.read_pickle(\"../data/region.pkl\")"
   ]
  },
  {
   "cell_type": "markdown",
   "id": "earlier-stupid",
   "metadata": {},
   "source": [
    "## Cleaning <a name=\"Cleaning\"></a>"
   ]
  },
  {
   "cell_type": "markdown",
   "id": "hearing-retrieval",
   "metadata": {},
   "source": [
    "### Profiling <a name=\"Profiling\"></a>"
   ]
  },
  {
   "cell_type": "code",
   "execution_count": 5,
   "id": "cloudy-momentum",
   "metadata": {},
   "outputs": [
    {
     "data": {
      "text/html": [
       "<div>\n",
       "<style scoped>\n",
       "    .dataframe tbody tr th:only-of-type {\n",
       "        vertical-align: middle;\n",
       "    }\n",
       "\n",
       "    .dataframe tbody tr th {\n",
       "        vertical-align: top;\n",
       "    }\n",
       "\n",
       "    .dataframe thead th {\n",
       "        text-align: right;\n",
       "    }\n",
       "</style>\n",
       "<table border=\"1\" class=\"dataframe\">\n",
       "  <thead>\n",
       "    <tr style=\"text-align: right;\">\n",
       "      <th></th>\n",
       "      <th>temp</th>\n",
       "      <th>count_temp</th>\n",
       "      <th>dewp</th>\n",
       "      <th>count_dewp</th>\n",
       "      <th>slp</th>\n",
       "      <th>count_slp</th>\n",
       "      <th>stp</th>\n",
       "      <th>count_stp</th>\n",
       "      <th>visib</th>\n",
       "      <th>count_visib</th>\n",
       "      <th>gust</th>\n",
       "      <th>max</th>\n",
       "      <th>min</th>\n",
       "      <th>prcp</th>\n",
       "      <th>sndp</th>\n",
       "    </tr>\n",
       "  </thead>\n",
       "  <tbody>\n",
       "    <tr>\n",
       "      <th>count</th>\n",
       "      <td>162928.000000</td>\n",
       "      <td>162928.000000</td>\n",
       "      <td>162928.000000</td>\n",
       "      <td>162928.000000</td>\n",
       "      <td>162928.000000</td>\n",
       "      <td>162928.000000</td>\n",
       "      <td>162928.000000</td>\n",
       "      <td>162928.000000</td>\n",
       "      <td>162928.000000</td>\n",
       "      <td>162928.000000</td>\n",
       "      <td>162928.000000</td>\n",
       "      <td>162928.000000</td>\n",
       "      <td>162928.000000</td>\n",
       "      <td>162928.000000</td>\n",
       "      <td>162928.000000</td>\n",
       "    </tr>\n",
       "    <tr>\n",
       "      <th>mean</th>\n",
       "      <td>53.074531</td>\n",
       "      <td>21.835713</td>\n",
       "      <td>540.537830</td>\n",
       "      <td>20.920321</td>\n",
       "      <td>3035.821540</td>\n",
       "      <td>16.526165</td>\n",
       "      <td>3878.491119</td>\n",
       "      <td>14.882930</td>\n",
       "      <td>48.371216</td>\n",
       "      <td>20.958061</td>\n",
       "      <td>760.179260</td>\n",
       "      <td>70.162080</td>\n",
       "      <td>53.833893</td>\n",
       "      <td>11.611211</td>\n",
       "      <td>996.703676</td>\n",
       "    </tr>\n",
       "    <tr>\n",
       "      <th>std</th>\n",
       "      <td>11.466504</td>\n",
       "      <td>4.951519</td>\n",
       "      <td>2167.568809</td>\n",
       "      <td>6.569140</td>\n",
       "      <td>3748.818994</td>\n",
       "      <td>9.770049</td>\n",
       "      <td>4242.002663</td>\n",
       "      <td>11.129757</td>\n",
       "      <td>182.885585</td>\n",
       "      <td>6.375431</td>\n",
       "      <td>420.693784</td>\n",
       "      <td>236.501388</td>\n",
       "      <td>320.639324</td>\n",
       "      <td>31.924838</td>\n",
       "      <td>56.379391</td>\n",
       "    </tr>\n",
       "    <tr>\n",
       "      <th>min</th>\n",
       "      <td>0.100000</td>\n",
       "      <td>4.000000</td>\n",
       "      <td>-10.700000</td>\n",
       "      <td>0.000000</td>\n",
       "      <td>981.000000</td>\n",
       "      <td>0.000000</td>\n",
       "      <td>0.000000</td>\n",
       "      <td>0.000000</td>\n",
       "      <td>0.000000</td>\n",
       "      <td>0.000000</td>\n",
       "      <td>9.900000</td>\n",
       "      <td>10.000000</td>\n",
       "      <td>-11.000000</td>\n",
       "      <td>0.000000</td>\n",
       "      <td>0.400000</td>\n",
       "    </tr>\n",
       "    <tr>\n",
       "      <th>25%</th>\n",
       "      <td>44.500000</td>\n",
       "      <td>24.000000</td>\n",
       "      <td>38.600000</td>\n",
       "      <td>23.000000</td>\n",
       "      <td>1015.300000</td>\n",
       "      <td>8.000000</td>\n",
       "      <td>1007.300000</td>\n",
       "      <td>0.000000</td>\n",
       "      <td>9.400000</td>\n",
       "      <td>23.000000</td>\n",
       "      <td>999.900000</td>\n",
       "      <td>53.100000</td>\n",
       "      <td>37.000000</td>\n",
       "      <td>0.000000</td>\n",
       "      <td>999.900000</td>\n",
       "    </tr>\n",
       "    <tr>\n",
       "      <th>50%</th>\n",
       "      <td>52.500000</td>\n",
       "      <td>24.000000</td>\n",
       "      <td>45.200000</td>\n",
       "      <td>24.000000</td>\n",
       "      <td>1019.800000</td>\n",
       "      <td>23.000000</td>\n",
       "      <td>1015.200000</td>\n",
       "      <td>24.000000</td>\n",
       "      <td>10.000000</td>\n",
       "      <td>24.000000</td>\n",
       "      <td>999.900000</td>\n",
       "      <td>63.000000</td>\n",
       "      <td>44.100000</td>\n",
       "      <td>0.000000</td>\n",
       "      <td>999.900000</td>\n",
       "    </tr>\n",
       "    <tr>\n",
       "      <th>75%</th>\n",
       "      <td>62.000000</td>\n",
       "      <td>24.000000</td>\n",
       "      <td>51.400000</td>\n",
       "      <td>24.000000</td>\n",
       "      <td>1029.800000</td>\n",
       "      <td>24.000000</td>\n",
       "      <td>9999.900000</td>\n",
       "      <td>24.000000</td>\n",
       "      <td>16.700000</td>\n",
       "      <td>24.000000</td>\n",
       "      <td>999.900000</td>\n",
       "      <td>75.900000</td>\n",
       "      <td>51.100000</td>\n",
       "      <td>0.150000</td>\n",
       "      <td>999.900000</td>\n",
       "    </tr>\n",
       "    <tr>\n",
       "      <th>max</th>\n",
       "      <td>97.900000</td>\n",
       "      <td>24.000000</td>\n",
       "      <td>9999.900000</td>\n",
       "      <td>24.000000</td>\n",
       "      <td>9999.900000</td>\n",
       "      <td>24.000000</td>\n",
       "      <td>9999.900000</td>\n",
       "      <td>24.000000</td>\n",
       "      <td>999.900000</td>\n",
       "      <td>24.000000</td>\n",
       "      <td>999.900000</td>\n",
       "      <td>9999.900000</td>\n",
       "      <td>9999.900000</td>\n",
       "      <td>99.990000</td>\n",
       "      <td>999.900000</td>\n",
       "    </tr>\n",
       "  </tbody>\n",
       "</table>\n",
       "</div>"
      ],
      "text/plain": [
       "                temp     count_temp           dewp     count_dewp  \\\n",
       "count  162928.000000  162928.000000  162928.000000  162928.000000   \n",
       "mean       53.074531      21.835713     540.537830      20.920321   \n",
       "std        11.466504       4.951519    2167.568809       6.569140   \n",
       "min         0.100000       4.000000     -10.700000       0.000000   \n",
       "25%        44.500000      24.000000      38.600000      23.000000   \n",
       "50%        52.500000      24.000000      45.200000      24.000000   \n",
       "75%        62.000000      24.000000      51.400000      24.000000   \n",
       "max        97.900000      24.000000    9999.900000      24.000000   \n",
       "\n",
       "                 slp      count_slp            stp      count_stp  \\\n",
       "count  162928.000000  162928.000000  162928.000000  162928.000000   \n",
       "mean     3035.821540      16.526165    3878.491119      14.882930   \n",
       "std      3748.818994       9.770049    4242.002663      11.129757   \n",
       "min       981.000000       0.000000       0.000000       0.000000   \n",
       "25%      1015.300000       8.000000    1007.300000       0.000000   \n",
       "50%      1019.800000      23.000000    1015.200000      24.000000   \n",
       "75%      1029.800000      24.000000    9999.900000      24.000000   \n",
       "max      9999.900000      24.000000    9999.900000      24.000000   \n",
       "\n",
       "               visib    count_visib           gust            max  \\\n",
       "count  162928.000000  162928.000000  162928.000000  162928.000000   \n",
       "mean       48.371216      20.958061     760.179260      70.162080   \n",
       "std       182.885585       6.375431     420.693784     236.501388   \n",
       "min         0.000000       0.000000       9.900000      10.000000   \n",
       "25%         9.400000      23.000000     999.900000      53.100000   \n",
       "50%        10.000000      24.000000     999.900000      63.000000   \n",
       "75%        16.700000      24.000000     999.900000      75.900000   \n",
       "max       999.900000      24.000000     999.900000    9999.900000   \n",
       "\n",
       "                 min           prcp           sndp  \n",
       "count  162928.000000  162928.000000  162928.000000  \n",
       "mean       53.833893      11.611211     996.703676  \n",
       "std       320.639324      31.924838      56.379391  \n",
       "min       -11.000000       0.000000       0.400000  \n",
       "25%        37.000000       0.000000     999.900000  \n",
       "50%        44.100000       0.000000     999.900000  \n",
       "75%        51.100000       0.150000     999.900000  \n",
       "max      9999.900000      99.990000     999.900000  "
      ]
     },
     "execution_count": 5,
     "metadata": {},
     "output_type": "execute_result"
    }
   ],
   "source": [
    "weatherdf.describe()"
   ]
  },
  {
   "cell_type": "markdown",
   "id": "peaceful-occupation",
   "metadata": {},
   "source": [
    "We want to build data definitions to describe the features in the datasets to identify any issues that will require cleaning. We'll try the Pandas profiling module. "
   ]
  },
  {
   "cell_type": "code",
   "execution_count": 6,
   "id": "headed-smart",
   "metadata": {},
   "outputs": [
    {
     "data": {
      "application/vnd.jupyter.widget-view+json": {
       "model_id": "c192db1ce1ef4825a1d92189c2f95dc8",
       "version_major": 2,
       "version_minor": 0
      },
      "text/plain": [
       "Summarize dataset:   0%|          | 0/48 [00:00<?, ?it/s]"
      ]
     },
     "metadata": {},
     "output_type": "display_data"
    },
    {
     "name": "stderr",
     "output_type": "stream",
     "text": [
      "/Users/bem/opt/anaconda3/envs/SB/lib/python3.9/site-packages/scipy/stats/stats.py:4594: RuntimeWarning: overflow encountered in long_scalars\n",
      "  (2 * xtie * ytie) / m + x0 * y0 / (9 * m * (size - 2)))\n"
     ]
    },
    {
     "data": {
      "application/vnd.jupyter.widget-view+json": {
       "model_id": "e296fa5bfbf946f8bfefbe820319aa1e",
       "version_major": 2,
       "version_minor": 0
      },
      "text/plain": [
       "Generate report structure:   0%|          | 0/1 [00:00<?, ?it/s]"
      ]
     },
     "metadata": {},
     "output_type": "display_data"
    },
    {
     "data": {
      "application/vnd.jupyter.widget-view+json": {
       "model_id": "76565fa2cc814095b6ee1258fe93b41d",
       "version_major": 2,
       "version_minor": 0
      },
      "text/plain": [
       "Render HTML:   0%|          | 0/1 [00:00<?, ?it/s]"
      ]
     },
     "metadata": {},
     "output_type": "display_data"
    },
    {
     "data": {
      "application/vnd.jupyter.widget-view+json": {
       "model_id": "3cdd880922694e50bf4bc08ab7d112c0",
       "version_major": 2,
       "version_minor": 0
      },
      "text/plain": [
       "Export report to file:   0%|          | 0/1 [00:00<?, ?it/s]"
      ]
     },
     "metadata": {},
     "output_type": "display_data"
    }
   ],
   "source": [
    "weatherdfprofile = pandas_profiling.ProfileReport(weatherdf, title='Weatherdf Profiling Report', explorative=True)\n",
    "#displays the report directly in the notebook: \n",
    "#weatherdfprofile.to_widgets()\n",
    "#due to a notebook size problem, generate as a separate HTML report instead: \n",
    "weatherdfprofile.to_file(\"weatherdfprofile.html\")"
   ]
  },
  {
   "cell_type": "markdown",
   "id": "dutch-allen",
   "metadata": {},
   "source": [
    "[View Profile Report Here](weatherdfprofile.html)"
   ]
  },
  {
   "cell_type": "markdown",
   "id": "nervous-burke",
   "metadata": {},
   "source": [
    "The our_stations df was used in the previous notebook to narrow down the weather data and may not be needed again so we won't load it here. "
   ]
  },
  {
   "cell_type": "markdown",
   "id": "adjacent-inspection",
   "metadata": {},
   "source": [
    "### Data Defining <a name=\"DataDefining\"></a>\n",
    "Data definitions for weather fields."
   ]
  },
  {
   "cell_type": "code",
   "execution_count": 7,
   "id": "detected-antigua",
   "metadata": {},
   "outputs": [],
   "source": [
    "#Let's bring some organization to our list of fields which we're deciding what to do with. \n",
    "#We'll specify the value we see being used for missing values, whether we should drop the column, and what we should rename it to. \n",
    "wfields = { \n",
    "    'stn' : {'NewName' : 'StationID1', 'Drop?' : True, 'MissVal': '999999', \n",
    "        'Desc' : 'Only unique per station if combined with ID2.'},\n",
    "    'wban' : {'NewName' : 'StationID2', 'Drop?' : True,  'MissVal': '99999', \n",
    "        'Desc' : 'Concat with ID1 to use but only needed if joining with stations table.'},\n",
    "    'date' : {'NewName' : 'BadDate', 'Drop?' : True,\n",
    "        'Desc' : 'We see this column is mostly empty and not useful.'},\n",
    "    'year' : {'NewName' : 'Year', 'Drop?' : False, #Will drop later\n",
    "        'Desc' : 'Year for this daily record at this station'},\n",
    "    'mo' : {'NewName' : 'Month', 'Drop?' : False, #Will drop later\n",
    "        'Desc' : 'Month of year for this daily record at this station'},\n",
    "    'da' : {'NewName' : 'Day', 'Drop?' : False, #Will drop later\n",
    "        'Desc' : 'Day of month for this daily record at this station'},\n",
    "    'temp' : {'NewName' : 'Temperature', 'Drop?' : False, 'MissVal': 9999.9, \n",
    "        'Desc' : 'Mean of the hourly temperatures for 1 day by 1 station.'},\n",
    "    'count_temp' : {'NewName' : 'TempCount', 'Drop?' : True,\n",
    "        'Desc' : 'Number of temp readings for 1 day by 1 station.'},\n",
    "    'dewp' : {'NewName' : 'Dewpoint', 'Drop?' : False, 'MissVal': 9999.9, \n",
    "        'Desc' : 'Related to humidity. Mean.'},\n",
    "    'count_dewp' : {'NewName' : 'DewpCount', 'Drop?' : True,\n",
    "        'Desc' : 'Number of dew readings for 1 day by 1 station.'},\n",
    "    'slp' : {'NewName' : 'SeaPressure', 'Drop?' : True, 'MissVal': 9999.9, \n",
    "        'Desc' : 'Barometric pressure adjusted for elevation'},\n",
    "    'count_slp' : {'NewName' : 'SeaCount', 'Drop?' : True,\n",
    "        'Desc' : 'Number of sea readings for 1 day by 1 station.'},\n",
    "    'stp' : {'NewName' : 'Pressure', 'Drop?' : False, 'MissVal': 9999.9, \n",
    "        'Desc' : 'Mean barometric pressure for 1 day by 1 station.'},\n",
    "    'count_stp' : {'NewName' : 'PressureCount', 'Drop?' : True,\n",
    "        'Desc' : 'Number of barometric readings for 1 day by 1 station'},\n",
    "    'visib' : {'NewName' : 'Visibility', 'Drop?' : True, 'MissVal': 999.9, \n",
    "        'Desc' : 'Weather feature but we will assume has no effect.'},\n",
    "    'count_visib' : {'NewName' : 'VisibilityCount', 'Drop?' : True,\n",
    "        'Desc' : 'Number of visibility readings for 1 day by 1 station'},\n",
    "    'wdsp' : {'NewName' : 'Wind', 'Drop?' : False, 'MissVal': '999.9', \n",
    "        'Desc' : 'Mean speed of wind for 1 day by 1 station'},\n",
    "    'count_wdsp' : {'NewName' : 'WindCount', 'Drop?' : True,\n",
    "        'Desc' : 'Number of wind readings for 1 day by 1 station'},\n",
    "    'mxpsd' : {'NewName' : 'WindPeak', 'Drop?' : False, 'MissVal': '999.9', \n",
    "        'Desc' : 'Max wind that day excluding non-sustained gusts'},\n",
    "    'gust' : {'NewName' : 'WindGust', 'Drop?' : False, 'MissVal': 999.9, \n",
    "        'Desc' : 'Highest wind speed that day'},\n",
    "    'max' : {'NewName' : 'TempMax', 'Drop?' : False, 'MissVal': 9999.9, \n",
    "        'Desc' : 'maximum temperature that day at that station'},\n",
    "    'flag_max' : {'NewName' : 'TempMaxFlag', 'Drop?' : True,\n",
    "        'Desc' : 'indicates source of temperature max calculation'},\n",
    "    'min' : {'NewName' : 'TempMin', 'Drop?' : False, 'MissVal': 9999.9, \n",
    "        'Desc' : 'minimum temperature that day at that station'},\n",
    "    'flag_min' : {'NewName' : 'TempMinFlag', 'Drop?' : True,\n",
    "        'Desc' : 'indicates source of temperature min calculation'},\n",
    "    'prcp' : {'NewName' : 'Rain', 'Drop?' : False, 'MissVal': 99.99, \n",
    "        'Desc' : 'Rain and/or melted snow'},\n",
    "    'flag_prcp' : {'NewName' : 'RainFlag', 'Drop?' : True,\n",
    "        'Desc' : 'indicates source of rain calculation'},\n",
    "    'sndp' : {'NewName' : 'Snow', 'Drop?' : False, 'MissVal': 999.9, \n",
    "        'Desc' : 'height of accumulated snow on ground'},\n",
    "    'fog' : {'NewName' : 'FogBool', 'Drop?' : True,\n",
    "        'Desc' : '1=True that some that day'},\n",
    "    'rain_drizzle' : {'NewName' : 'DrizzleBool', 'Drop?' : True,\n",
    "        'Desc' : '1=True that some fell that day'},\n",
    "    'snow_ice_pellets' : {'NewName' : 'SnowBool', 'Drop?' : True,\n",
    "        'Desc' : '1=True that some fell that day'},\n",
    "    'hail' : {'NewName' : 'HailBool', 'Drop?' : True,\n",
    "        'Desc' : '1=True that some fell that day'},\n",
    "    'thunder' : {'NewName' : 'LightningBool', 'Drop?' : True,\n",
    "        'Desc' : 'lightning strikes have negligable effect'},\n",
    "    'tornado_funnel_cloud' : {'NewName' : 'TornadoBool', 'Drop?' : True,\n",
    "        'Desc' : 'tornados have near zero occurance'}\n",
    "}"
   ]
  },
  {
   "cell_type": "code",
   "execution_count": 8,
   "id": "greek-wilderness",
   "metadata": {},
   "outputs": [
    {
     "data": {
      "text/html": [
       "<div>\n",
       "<style scoped>\n",
       "    .dataframe tbody tr th:only-of-type {\n",
       "        vertical-align: middle;\n",
       "    }\n",
       "\n",
       "    .dataframe tbody tr th {\n",
       "        vertical-align: top;\n",
       "    }\n",
       "\n",
       "    .dataframe thead th {\n",
       "        text-align: right;\n",
       "    }\n",
       "</style>\n",
       "<table border=\"1\" class=\"dataframe\">\n",
       "  <thead>\n",
       "    <tr style=\"text-align: right;\">\n",
       "      <th></th>\n",
       "      <th>NewName</th>\n",
       "      <th>Drop?</th>\n",
       "      <th>MissVal</th>\n",
       "      <th>Desc</th>\n",
       "    </tr>\n",
       "  </thead>\n",
       "  <tbody>\n",
       "    <tr>\n",
       "      <th>stn</th>\n",
       "      <td>StationID1</td>\n",
       "      <td>True</td>\n",
       "      <td>999999</td>\n",
       "      <td>Only unique per station if combined with ID2.</td>\n",
       "    </tr>\n",
       "    <tr>\n",
       "      <th>wban</th>\n",
       "      <td>StationID2</td>\n",
       "      <td>True</td>\n",
       "      <td>99999</td>\n",
       "      <td>Concat with ID1 to use but only needed if join...</td>\n",
       "    </tr>\n",
       "    <tr>\n",
       "      <th>date</th>\n",
       "      <td>BadDate</td>\n",
       "      <td>True</td>\n",
       "      <td>NaN</td>\n",
       "      <td>We see this column is mostly empty and not use...</td>\n",
       "    </tr>\n",
       "    <tr>\n",
       "      <th>year</th>\n",
       "      <td>Year</td>\n",
       "      <td>False</td>\n",
       "      <td>NaN</td>\n",
       "      <td>Year for this daily record at this station</td>\n",
       "    </tr>\n",
       "    <tr>\n",
       "      <th>mo</th>\n",
       "      <td>Month</td>\n",
       "      <td>False</td>\n",
       "      <td>NaN</td>\n",
       "      <td>Month of year for this daily record at this st...</td>\n",
       "    </tr>\n",
       "    <tr>\n",
       "      <th>da</th>\n",
       "      <td>Day</td>\n",
       "      <td>False</td>\n",
       "      <td>NaN</td>\n",
       "      <td>Day of month for this daily record at this sta...</td>\n",
       "    </tr>\n",
       "    <tr>\n",
       "      <th>temp</th>\n",
       "      <td>Temperature</td>\n",
       "      <td>False</td>\n",
       "      <td>9999.9</td>\n",
       "      <td>Mean of the hourly temperatures for 1 day by 1...</td>\n",
       "    </tr>\n",
       "    <tr>\n",
       "      <th>count_temp</th>\n",
       "      <td>TempCount</td>\n",
       "      <td>True</td>\n",
       "      <td>NaN</td>\n",
       "      <td>Number of temp readings for 1 day by 1 station.</td>\n",
       "    </tr>\n",
       "    <tr>\n",
       "      <th>dewp</th>\n",
       "      <td>Dewpoint</td>\n",
       "      <td>False</td>\n",
       "      <td>9999.9</td>\n",
       "      <td>Related to humidity. Mean.</td>\n",
       "    </tr>\n",
       "    <tr>\n",
       "      <th>count_dewp</th>\n",
       "      <td>DewpCount</td>\n",
       "      <td>True</td>\n",
       "      <td>NaN</td>\n",
       "      <td>Number of dew readings for 1 day by 1 station.</td>\n",
       "    </tr>\n",
       "    <tr>\n",
       "      <th>slp</th>\n",
       "      <td>SeaPressure</td>\n",
       "      <td>True</td>\n",
       "      <td>9999.9</td>\n",
       "      <td>Barometric pressure adjusted for elevation</td>\n",
       "    </tr>\n",
       "    <tr>\n",
       "      <th>count_slp</th>\n",
       "      <td>SeaCount</td>\n",
       "      <td>True</td>\n",
       "      <td>NaN</td>\n",
       "      <td>Number of sea readings for 1 day by 1 station.</td>\n",
       "    </tr>\n",
       "    <tr>\n",
       "      <th>stp</th>\n",
       "      <td>Pressure</td>\n",
       "      <td>False</td>\n",
       "      <td>9999.9</td>\n",
       "      <td>Mean barometric pressure for 1 day by 1 station.</td>\n",
       "    </tr>\n",
       "    <tr>\n",
       "      <th>count_stp</th>\n",
       "      <td>PressureCount</td>\n",
       "      <td>True</td>\n",
       "      <td>NaN</td>\n",
       "      <td>Number of barometric readings for 1 day by 1 s...</td>\n",
       "    </tr>\n",
       "    <tr>\n",
       "      <th>visib</th>\n",
       "      <td>Visibility</td>\n",
       "      <td>True</td>\n",
       "      <td>999.9</td>\n",
       "      <td>Weather feature but we will assume has no effect.</td>\n",
       "    </tr>\n",
       "    <tr>\n",
       "      <th>count_visib</th>\n",
       "      <td>VisibilityCount</td>\n",
       "      <td>True</td>\n",
       "      <td>NaN</td>\n",
       "      <td>Number of visibility readings for 1 day by 1 s...</td>\n",
       "    </tr>\n",
       "    <tr>\n",
       "      <th>wdsp</th>\n",
       "      <td>Wind</td>\n",
       "      <td>False</td>\n",
       "      <td>999.9</td>\n",
       "      <td>Mean speed of wind for 1 day by 1 station</td>\n",
       "    </tr>\n",
       "    <tr>\n",
       "      <th>count_wdsp</th>\n",
       "      <td>WindCount</td>\n",
       "      <td>True</td>\n",
       "      <td>NaN</td>\n",
       "      <td>Number of wind readings for 1 day by 1 station</td>\n",
       "    </tr>\n",
       "    <tr>\n",
       "      <th>mxpsd</th>\n",
       "      <td>WindPeak</td>\n",
       "      <td>False</td>\n",
       "      <td>999.9</td>\n",
       "      <td>Max wind that day excluding non-sustained gusts</td>\n",
       "    </tr>\n",
       "    <tr>\n",
       "      <th>gust</th>\n",
       "      <td>WindGust</td>\n",
       "      <td>False</td>\n",
       "      <td>999.9</td>\n",
       "      <td>Highest wind speed that day</td>\n",
       "    </tr>\n",
       "    <tr>\n",
       "      <th>max</th>\n",
       "      <td>TempMax</td>\n",
       "      <td>False</td>\n",
       "      <td>9999.9</td>\n",
       "      <td>maximum temperature that day at that station</td>\n",
       "    </tr>\n",
       "    <tr>\n",
       "      <th>flag_max</th>\n",
       "      <td>TempMaxFlag</td>\n",
       "      <td>True</td>\n",
       "      <td>NaN</td>\n",
       "      <td>indicates source of temperature max calculation</td>\n",
       "    </tr>\n",
       "    <tr>\n",
       "      <th>min</th>\n",
       "      <td>TempMin</td>\n",
       "      <td>False</td>\n",
       "      <td>9999.9</td>\n",
       "      <td>minimum temperature that day at that station</td>\n",
       "    </tr>\n",
       "    <tr>\n",
       "      <th>flag_min</th>\n",
       "      <td>TempMinFlag</td>\n",
       "      <td>True</td>\n",
       "      <td>NaN</td>\n",
       "      <td>indicates source of temperature min calculation</td>\n",
       "    </tr>\n",
       "    <tr>\n",
       "      <th>prcp</th>\n",
       "      <td>Rain</td>\n",
       "      <td>False</td>\n",
       "      <td>99.99</td>\n",
       "      <td>Rain and/or melted snow</td>\n",
       "    </tr>\n",
       "    <tr>\n",
       "      <th>flag_prcp</th>\n",
       "      <td>RainFlag</td>\n",
       "      <td>True</td>\n",
       "      <td>NaN</td>\n",
       "      <td>indicates source of rain calculation</td>\n",
       "    </tr>\n",
       "    <tr>\n",
       "      <th>sndp</th>\n",
       "      <td>Snow</td>\n",
       "      <td>False</td>\n",
       "      <td>999.9</td>\n",
       "      <td>height of accumulated snow on ground</td>\n",
       "    </tr>\n",
       "    <tr>\n",
       "      <th>fog</th>\n",
       "      <td>FogBool</td>\n",
       "      <td>True</td>\n",
       "      <td>NaN</td>\n",
       "      <td>1=True that some that day</td>\n",
       "    </tr>\n",
       "    <tr>\n",
       "      <th>rain_drizzle</th>\n",
       "      <td>DrizzleBool</td>\n",
       "      <td>True</td>\n",
       "      <td>NaN</td>\n",
       "      <td>1=True that some fell that day</td>\n",
       "    </tr>\n",
       "    <tr>\n",
       "      <th>snow_ice_pellets</th>\n",
       "      <td>SnowBool</td>\n",
       "      <td>True</td>\n",
       "      <td>NaN</td>\n",
       "      <td>1=True that some fell that day</td>\n",
       "    </tr>\n",
       "    <tr>\n",
       "      <th>hail</th>\n",
       "      <td>HailBool</td>\n",
       "      <td>True</td>\n",
       "      <td>NaN</td>\n",
       "      <td>1=True that some fell that day</td>\n",
       "    </tr>\n",
       "    <tr>\n",
       "      <th>thunder</th>\n",
       "      <td>LightningBool</td>\n",
       "      <td>True</td>\n",
       "      <td>NaN</td>\n",
       "      <td>lightning strikes have negligable effect</td>\n",
       "    </tr>\n",
       "    <tr>\n",
       "      <th>tornado_funnel_cloud</th>\n",
       "      <td>TornadoBool</td>\n",
       "      <td>True</td>\n",
       "      <td>NaN</td>\n",
       "      <td>tornados have near zero occurance</td>\n",
       "    </tr>\n",
       "  </tbody>\n",
       "</table>\n",
       "</div>"
      ],
      "text/plain": [
       "                              NewName  Drop? MissVal  \\\n",
       "stn                        StationID1   True  999999   \n",
       "wban                       StationID2   True   99999   \n",
       "date                          BadDate   True     NaN   \n",
       "year                             Year  False     NaN   \n",
       "mo                              Month  False     NaN   \n",
       "da                                Day  False     NaN   \n",
       "temp                      Temperature  False  9999.9   \n",
       "count_temp                  TempCount   True     NaN   \n",
       "dewp                         Dewpoint  False  9999.9   \n",
       "count_dewp                  DewpCount   True     NaN   \n",
       "slp                       SeaPressure   True  9999.9   \n",
       "count_slp                    SeaCount   True     NaN   \n",
       "stp                          Pressure  False  9999.9   \n",
       "count_stp               PressureCount   True     NaN   \n",
       "visib                      Visibility   True   999.9   \n",
       "count_visib           VisibilityCount   True     NaN   \n",
       "wdsp                             Wind  False   999.9   \n",
       "count_wdsp                  WindCount   True     NaN   \n",
       "mxpsd                        WindPeak  False   999.9   \n",
       "gust                         WindGust  False   999.9   \n",
       "max                           TempMax  False  9999.9   \n",
       "flag_max                  TempMaxFlag   True     NaN   \n",
       "min                           TempMin  False  9999.9   \n",
       "flag_min                  TempMinFlag   True     NaN   \n",
       "prcp                             Rain  False   99.99   \n",
       "flag_prcp                    RainFlag   True     NaN   \n",
       "sndp                             Snow  False   999.9   \n",
       "fog                           FogBool   True     NaN   \n",
       "rain_drizzle              DrizzleBool   True     NaN   \n",
       "snow_ice_pellets             SnowBool   True     NaN   \n",
       "hail                         HailBool   True     NaN   \n",
       "thunder                 LightningBool   True     NaN   \n",
       "tornado_funnel_cloud      TornadoBool   True     NaN   \n",
       "\n",
       "                                                                   Desc  \n",
       "stn                       Only unique per station if combined with ID2.  \n",
       "wban                  Concat with ID1 to use but only needed if join...  \n",
       "date                  We see this column is mostly empty and not use...  \n",
       "year                         Year for this daily record at this station  \n",
       "mo                    Month of year for this daily record at this st...  \n",
       "da                    Day of month for this daily record at this sta...  \n",
       "temp                  Mean of the hourly temperatures for 1 day by 1...  \n",
       "count_temp              Number of temp readings for 1 day by 1 station.  \n",
       "dewp                                         Related to humidity. Mean.  \n",
       "count_dewp               Number of dew readings for 1 day by 1 station.  \n",
       "slp                          Barometric pressure adjusted for elevation  \n",
       "count_slp                Number of sea readings for 1 day by 1 station.  \n",
       "stp                    Mean barometric pressure for 1 day by 1 station.  \n",
       "count_stp             Number of barometric readings for 1 day by 1 s...  \n",
       "visib                 Weather feature but we will assume has no effect.  \n",
       "count_visib           Number of visibility readings for 1 day by 1 s...  \n",
       "wdsp                          Mean speed of wind for 1 day by 1 station  \n",
       "count_wdsp               Number of wind readings for 1 day by 1 station  \n",
       "mxpsd                   Max wind that day excluding non-sustained gusts  \n",
       "gust                                        Highest wind speed that day  \n",
       "max                        maximum temperature that day at that station  \n",
       "flag_max                indicates source of temperature max calculation  \n",
       "min                        minimum temperature that day at that station  \n",
       "flag_min                indicates source of temperature min calculation  \n",
       "prcp                                            Rain and/or melted snow  \n",
       "flag_prcp                          indicates source of rain calculation  \n",
       "sndp                               height of accumulated snow on ground  \n",
       "fog                                           1=True that some that day  \n",
       "rain_drizzle                             1=True that some fell that day  \n",
       "snow_ice_pellets                         1=True that some fell that day  \n",
       "hail                                     1=True that some fell that day  \n",
       "thunder                        lightning strikes have negligable effect  \n",
       "tornado_funnel_cloud                  tornados have near zero occurance  "
      ]
     },
     "execution_count": 8,
     "metadata": {},
     "output_type": "execute_result"
    }
   ],
   "source": [
    "wfieldsdf = pd.DataFrame(wfields).T\n",
    "wfieldsdf"
   ]
  },
  {
   "cell_type": "markdown",
   "id": "exceptional-zambia",
   "metadata": {},
   "source": [
    "Now we'll apply our definitions to the data"
   ]
  },
  {
   "cell_type": "code",
   "execution_count": 9,
   "id": "better-fabric",
   "metadata": {},
   "outputs": [
    {
     "data": {
      "text/html": [
       "<div>\n",
       "<style scoped>\n",
       "    .dataframe tbody tr th:only-of-type {\n",
       "        vertical-align: middle;\n",
       "    }\n",
       "\n",
       "    .dataframe tbody tr th {\n",
       "        vertical-align: top;\n",
       "    }\n",
       "\n",
       "    .dataframe thead th {\n",
       "        text-align: right;\n",
       "    }\n",
       "</style>\n",
       "<table border=\"1\" class=\"dataframe\">\n",
       "  <thead>\n",
       "    <tr style=\"text-align: right;\">\n",
       "      <th></th>\n",
       "      <th>Year</th>\n",
       "      <th>Month</th>\n",
       "      <th>Day</th>\n",
       "      <th>Temperature</th>\n",
       "      <th>Dewpoint</th>\n",
       "      <th>Pressure</th>\n",
       "      <th>Wind</th>\n",
       "      <th>WindPeak</th>\n",
       "      <th>WindGust</th>\n",
       "      <th>TempMax</th>\n",
       "      <th>TempMin</th>\n",
       "      <th>Rain</th>\n",
       "      <th>Snow</th>\n",
       "    </tr>\n",
       "  </thead>\n",
       "  <tbody>\n",
       "    <tr>\n",
       "      <th>0</th>\n",
       "      <td>1943</td>\n",
       "      <td>05</td>\n",
       "      <td>17</td>\n",
       "      <td>52.0</td>\n",
       "      <td>43.8</td>\n",
       "      <td>NaN</td>\n",
       "      <td>7.1</td>\n",
       "      <td>13.0</td>\n",
       "      <td>NaN</td>\n",
       "      <td>66.4</td>\n",
       "      <td>38.3</td>\n",
       "      <td>0.00</td>\n",
       "      <td>NaN</td>\n",
       "    </tr>\n",
       "    <tr>\n",
       "      <th>1</th>\n",
       "      <td>1943</td>\n",
       "      <td>07</td>\n",
       "      <td>04</td>\n",
       "      <td>60.1</td>\n",
       "      <td>47.3</td>\n",
       "      <td>NaN</td>\n",
       "      <td>7.0</td>\n",
       "      <td>13.0</td>\n",
       "      <td>NaN</td>\n",
       "      <td>73.4</td>\n",
       "      <td>49.3</td>\n",
       "      <td>0.00</td>\n",
       "      <td>NaN</td>\n",
       "    </tr>\n",
       "    <tr>\n",
       "      <th>2</th>\n",
       "      <td>1943</td>\n",
       "      <td>07</td>\n",
       "      <td>23</td>\n",
       "      <td>72.9</td>\n",
       "      <td>57.6</td>\n",
       "      <td>NaN</td>\n",
       "      <td>5.8</td>\n",
       "      <td>13.0</td>\n",
       "      <td>NaN</td>\n",
       "      <td>89.2</td>\n",
       "      <td>57.4</td>\n",
       "      <td>0.00</td>\n",
       "      <td>NaN</td>\n",
       "    </tr>\n",
       "    <tr>\n",
       "      <th>3</th>\n",
       "      <td>1943</td>\n",
       "      <td>12</td>\n",
       "      <td>28</td>\n",
       "      <td>35.6</td>\n",
       "      <td>32.7</td>\n",
       "      <td>NaN</td>\n",
       "      <td>3.5</td>\n",
       "      <td>9.9</td>\n",
       "      <td>NaN</td>\n",
       "      <td>42.4</td>\n",
       "      <td>28.4</td>\n",
       "      <td>0.00</td>\n",
       "      <td>NaN</td>\n",
       "    </tr>\n",
       "    <tr>\n",
       "      <th>4</th>\n",
       "      <td>1943</td>\n",
       "      <td>09</td>\n",
       "      <td>25</td>\n",
       "      <td>65.5</td>\n",
       "      <td>54.6</td>\n",
       "      <td>NaN</td>\n",
       "      <td>4.4</td>\n",
       "      <td>14.0</td>\n",
       "      <td>NaN</td>\n",
       "      <td>95.4</td>\n",
       "      <td>52.3</td>\n",
       "      <td>0.00</td>\n",
       "      <td>NaN</td>\n",
       "    </tr>\n",
       "    <tr>\n",
       "      <th>...</th>\n",
       "      <td>...</td>\n",
       "      <td>...</td>\n",
       "      <td>...</td>\n",
       "      <td>...</td>\n",
       "      <td>...</td>\n",
       "      <td>...</td>\n",
       "      <td>...</td>\n",
       "      <td>...</td>\n",
       "      <td>...</td>\n",
       "      <td>...</td>\n",
       "      <td>...</td>\n",
       "      <td>...</td>\n",
       "      <td>...</td>\n",
       "    </tr>\n",
       "    <tr>\n",
       "      <th>30617</th>\n",
       "      <td>2020</td>\n",
       "      <td>02</td>\n",
       "      <td>03</td>\n",
       "      <td>35.6</td>\n",
       "      <td>31.3</td>\n",
       "      <td>18.1</td>\n",
       "      <td>3.9</td>\n",
       "      <td>9.9</td>\n",
       "      <td>NaN</td>\n",
       "      <td>46.9</td>\n",
       "      <td>30.0</td>\n",
       "      <td>0.01</td>\n",
       "      <td>NaN</td>\n",
       "    </tr>\n",
       "    <tr>\n",
       "      <th>30618</th>\n",
       "      <td>2020</td>\n",
       "      <td>03</td>\n",
       "      <td>14</td>\n",
       "      <td>37.5</td>\n",
       "      <td>35.3</td>\n",
       "      <td>999.7</td>\n",
       "      <td>5</td>\n",
       "      <td>8.9</td>\n",
       "      <td>NaN</td>\n",
       "      <td>41.0</td>\n",
       "      <td>33.1</td>\n",
       "      <td>0.30</td>\n",
       "      <td>NaN</td>\n",
       "    </tr>\n",
       "    <tr>\n",
       "      <th>30619</th>\n",
       "      <td>2020</td>\n",
       "      <td>01</td>\n",
       "      <td>15</td>\n",
       "      <td>34.9</td>\n",
       "      <td>26.9</td>\n",
       "      <td>10.2</td>\n",
       "      <td>11.1</td>\n",
       "      <td>22.9</td>\n",
       "      <td>28.0</td>\n",
       "      <td>41.0</td>\n",
       "      <td>32.0</td>\n",
       "      <td>0.04</td>\n",
       "      <td>NaN</td>\n",
       "    </tr>\n",
       "    <tr>\n",
       "      <th>30620</th>\n",
       "      <td>2020</td>\n",
       "      <td>01</td>\n",
       "      <td>17</td>\n",
       "      <td>36.2</td>\n",
       "      <td>33.1</td>\n",
       "      <td>12.6</td>\n",
       "      <td>4.8</td>\n",
       "      <td>13</td>\n",
       "      <td>NaN</td>\n",
       "      <td>43.0</td>\n",
       "      <td>30.0</td>\n",
       "      <td>0.16</td>\n",
       "      <td>NaN</td>\n",
       "    </tr>\n",
       "    <tr>\n",
       "      <th>30621</th>\n",
       "      <td>2020</td>\n",
       "      <td>01</td>\n",
       "      <td>14</td>\n",
       "      <td>36.4</td>\n",
       "      <td>33.1</td>\n",
       "      <td>5.9</td>\n",
       "      <td>4.8</td>\n",
       "      <td>12</td>\n",
       "      <td>NaN</td>\n",
       "      <td>39.9</td>\n",
       "      <td>33.1</td>\n",
       "      <td>0.26</td>\n",
       "      <td>NaN</td>\n",
       "    </tr>\n",
       "  </tbody>\n",
       "</table>\n",
       "<p>162928 rows × 13 columns</p>\n",
       "</div>"
      ],
      "text/plain": [
       "       Year Month Day  Temperature  Dewpoint  Pressure  Wind WindPeak  \\\n",
       "0      1943    05  17         52.0      43.8       NaN   7.1     13.0   \n",
       "1      1943    07  04         60.1      47.3       NaN   7.0     13.0   \n",
       "2      1943    07  23         72.9      57.6       NaN   5.8     13.0   \n",
       "3      1943    12  28         35.6      32.7       NaN   3.5      9.9   \n",
       "4      1943    09  25         65.5      54.6       NaN   4.4     14.0   \n",
       "...     ...   ...  ..          ...       ...       ...   ...      ...   \n",
       "30617  2020    02  03         35.6      31.3      18.1   3.9      9.9   \n",
       "30618  2020    03  14         37.5      35.3     999.7     5      8.9   \n",
       "30619  2020    01  15         34.9      26.9      10.2  11.1     22.9   \n",
       "30620  2020    01  17         36.2      33.1      12.6   4.8       13   \n",
       "30621  2020    01  14         36.4      33.1       5.9   4.8       12   \n",
       "\n",
       "       WindGust  TempMax  TempMin  Rain  Snow  \n",
       "0           NaN     66.4     38.3  0.00   NaN  \n",
       "1           NaN     73.4     49.3  0.00   NaN  \n",
       "2           NaN     89.2     57.4  0.00   NaN  \n",
       "3           NaN     42.4     28.4  0.00   NaN  \n",
       "4           NaN     95.4     52.3  0.00   NaN  \n",
       "...         ...      ...      ...   ...   ...  \n",
       "30617       NaN     46.9     30.0  0.01   NaN  \n",
       "30618       NaN     41.0     33.1  0.30   NaN  \n",
       "30619      28.0     41.0     32.0  0.04   NaN  \n",
       "30620       NaN     43.0     30.0  0.16   NaN  \n",
       "30621       NaN     39.9     33.1  0.26   NaN  \n",
       "\n",
       "[162928 rows x 13 columns]"
      ]
     },
     "execution_count": 9,
     "metadata": {},
     "output_type": "execute_result"
    }
   ],
   "source": [
    "#List of columns we've decided are unwanted: \n",
    "todrop = [k for k, v in wfields.items() if v['Drop?']]\n",
    "#Drop those columns\n",
    "#cleanweather = weatherdf.drop( columns=[wfields.pop(key) for key in todrop], axis = 1)\n",
    "cleanweather = weatherdf.drop( todrop, axis = 1)\n",
    "#Remove them from our fields list, since our attempts to use pop didn't work\n",
    "cleanwfields = {k:v for k, v in wfields.items() if not v['Drop?']}\n",
    "#Make a mapper to rename columns: \n",
    "torename = {k:v['NewName'] for k, v in cleanwfields.items()}\n",
    "#Rename them\n",
    "cleanweather.rename(columns=torename, inplace=True)\n",
    "#Map a map for all the varied representations of N/A\n",
    "MissMap = {v['NewName']:v['MissVal'] for k, v in cleanwfields.items() if 'MissVal' in v}\n",
    "#Use the map to populate missing data with NA\n",
    "cleanweather.replace(MissMap, np.nan, inplace=True)\n",
    "cleanweather"
   ]
  },
  {
   "cell_type": "code",
   "execution_count": 10,
   "id": "micro-bacon",
   "metadata": {},
   "outputs": [
    {
     "data": {
      "text/plain": [
       "Year            object\n",
       "Month           object\n",
       "Day             object\n",
       "Temperature    float64\n",
       "Dewpoint       float64\n",
       "Pressure       float64\n",
       "Wind            object\n",
       "WindPeak        object\n",
       "WindGust       float64\n",
       "TempMax        float64\n",
       "TempMin        float64\n",
       "Rain           float64\n",
       "Snow           float64\n",
       "dtype: object"
      ]
     },
     "execution_count": 10,
     "metadata": {},
     "output_type": "execute_result"
    }
   ],
   "source": [
    "cleanweather.dtypes"
   ]
  },
  {
   "cell_type": "code",
   "execution_count": 11,
   "id": "neural-truth",
   "metadata": {},
   "outputs": [
    {
     "data": {
      "text/plain": [
       "Year             int64\n",
       "Month            int64\n",
       "Day              int64\n",
       "Temperature    float64\n",
       "Dewpoint       float64\n",
       "Pressure       float64\n",
       "Wind           float64\n",
       "WindPeak       float64\n",
       "WindGust       float64\n",
       "TempMax        float64\n",
       "TempMin        float64\n",
       "Rain           float64\n",
       "Snow           float64\n",
       "dtype: object"
      ]
     },
     "execution_count": 11,
     "metadata": {},
     "output_type": "execute_result"
    }
   ],
   "source": [
    "#clean up our data types\n",
    "cols = cleanweather.columns[cleanweather.dtypes.eq('object')]\n",
    "cleanweather[cols] = cleanweather[cols].apply(pd.to_numeric, errors='coerce')\n",
    "cleanweather.dtypes"
   ]
  },
  {
   "cell_type": "markdown",
   "id": "dedicated-basic",
   "metadata": {},
   "source": [
    "### Correcting Outliers/Anomalies <a name=\"CorrectingAnomalies\"></a>\n",
    "We detected some possible bad data while looking through the profiling report so next we will work on correcting those values for each column. "
   ]
  },
  {
   "cell_type": "code",
   "execution_count": 12,
   "id": "outside-ordering",
   "metadata": {},
   "outputs": [
    {
     "data": {
      "image/png": "[encoded data removed]",
      "text/plain": [
       "<Figure size 432x288 with 1 Axes>"
      ]
     },
     "metadata": {
      "needs_background": "light"
     },
     "output_type": "display_data"
    }
   ],
   "source": [
    "hist = cleanweather['Pressure'].hist()"
   ]
  },
  {
   "cell_type": "markdown",
   "id": "passing-acrylic",
   "metadata": {},
   "source": [
    "We see the above outliers are beyond the possible range of air pressure measured in millibars so those readings may be using a different scale. We'll want to either set them to NA or rescale them to match the rest.  "
   ]
  },
  {
   "cell_type": "code",
   "execution_count": 13,
   "id": "little-impact",
   "metadata": {},
   "outputs": [
    {
     "data": {
      "text/plain": [
       "(7180, 2)"
      ]
     },
     "execution_count": 13,
     "metadata": {},
     "output_type": "execute_result"
    },
    {
     "data": {
      "image/png": "[encoded data removed]",
      "text/plain": [
       "<Figure size 432x288 with 2 Axes>"
      ]
     },
     "metadata": {
      "needs_background": "light"
     },
     "output_type": "display_data"
    }
   ],
   "source": [
    "#Display chart of both pressure and year for the out of range values to see if a certain time period consistently used a different scale: \n",
    "df = cleanweather.loc[cleanweather.Pressure.lt(500), ['Year', 'Pressure']]\n",
    "hist = df.hist()\n",
    "df.shape"
   ]
  },
  {
   "cell_type": "markdown",
   "id": "corporate-particular",
   "metadata": {},
   "source": [
    "We see that all of the outlier pressure values are from the most recent couple of years. It should be \"Mean station pressure for the day in millibars to tenths.\" but these can't be in millibars. "
   ]
  },
  {
   "cell_type": "code",
   "execution_count": 14,
   "id": "meaningful-tattoo",
   "metadata": {},
   "outputs": [
    {
     "data": {
      "text/plain": [
       "(8374, 2)"
      ]
     },
     "execution_count": 14,
     "metadata": {},
     "output_type": "execute_result"
    },
    {
     "data": {
      "image/png": "[encoded data removed]",
      "text/plain": [
       "<Figure size 432x288 with 2 Axes>"
      ]
     },
     "metadata": {
      "needs_background": "light"
     },
     "output_type": "display_data"
    }
   ],
   "source": [
    "df = cleanweather.loc[cleanweather.Year.gt(2018), ['Year', 'Pressure']]\n",
    "hist = df.hist()\n",
    "df.shape"
   ]
  },
  {
   "cell_type": "markdown",
   "id": "intermediate-shipping",
   "metadata": {},
   "source": [
    "We see most of the data, even for recent years, is not in the outlier range. The bad data ranges from 0 to 30 but should always be near 1000. Checking the most recent [documentation](https://data.noaa.gov/dataset/dataset/global-surface-summary-of-the-day-gsod) confirms mb is still in use as the unit of measure. There is no obvious other scale they could be using on the outliers. We will set them to NA as we are unable to convert them. "
   ]
  },
  {
   "cell_type": "code",
   "execution_count": 15,
   "id": "behind-mayor",
   "metadata": {},
   "outputs": [
    {
     "name": "stderr",
     "output_type": "stream",
     "text": [
      "/Users/bem/opt/anaconda3/envs/SB/lib/python3.9/site-packages/pandas/core/indexing.py:1637: SettingWithCopyWarning: \n",
      "A value is trying to be set on a copy of a slice from a DataFrame\n",
      "\n",
      "See the caveats in the documentation: https://pandas.pydata.org/pandas-docs/stable/user_guide/indexing.html#returning-a-view-versus-a-copy\n",
      "  self._setitem_single_block(indexer, value, name)\n"
     ]
    }
   ],
   "source": [
    "cleanweather.Pressure.loc[cleanweather.Pressure.lt(500)] = np.nan"
   ]
  },
  {
   "cell_type": "code",
   "execution_count": 16,
   "id": "inappropriate-station",
   "metadata": {},
   "outputs": [
    {
     "data": {
      "image/png": "[encoded data removed]",
      "text/plain": [
       "<Figure size 432x288 with 1 Axes>"
      ]
     },
     "metadata": {
      "needs_background": "light"
     },
     "output_type": "display_data"
    }
   ],
   "source": [
    "#confirm the above caveat didn't affect us.  \n",
    "hist = cleanweather['Pressure'].hist()"
   ]
  },
  {
   "cell_type": "markdown",
   "id": "russian-proceeding",
   "metadata": {},
   "source": [
    "Distribution is around 1000 just as expected. "
   ]
  },
  {
   "cell_type": "code",
   "execution_count": 17,
   "id": "driving-deputy",
   "metadata": {},
   "outputs": [
    {
     "data": {
      "image/png": "[encoded data removed]",
      "text/plain": [
       "<Figure size 432x288 with 16 Axes>"
      ]
     },
     "metadata": {
      "needs_background": "light"
     },
     "output_type": "display_data"
    }
   ],
   "source": [
    "hist = cleanweather.hist()"
   ]
  },
  {
   "cell_type": "code",
   "execution_count": 18,
   "id": "cubic-applicant",
   "metadata": {},
   "outputs": [
    {
     "data": {
      "image/png": "[encoded data removed]",
      "text/plain": [
       "<Figure size 432x288 with 1 Axes>"
      ]
     },
     "metadata": {
      "needs_background": "light"
     },
     "output_type": "display_data"
    }
   ],
   "source": [
    "hist = cleanweather.drop(['Year', 'Month', 'Day', 'Pressure'], axis=1).boxplot()"
   ]
  },
  {
   "cell_type": "markdown",
   "id": "beautiful-stress",
   "metadata": {},
   "source": [
    "The outliers we see now would seem to only represent extreme weather events, rather than errors. "
   ]
  },
  {
   "cell_type": "code",
   "execution_count": 19,
   "id": "green-confusion",
   "metadata": {},
   "outputs": [
    {
     "data": {
      "text/html": [
       "<div>\n",
       "<style scoped>\n",
       "    .dataframe tbody tr th:only-of-type {\n",
       "        vertical-align: middle;\n",
       "    }\n",
       "\n",
       "    .dataframe tbody tr th {\n",
       "        vertical-align: top;\n",
       "    }\n",
       "\n",
       "    .dataframe thead th {\n",
       "        text-align: right;\n",
       "    }\n",
       "</style>\n",
       "<table border=\"1\" class=\"dataframe\">\n",
       "  <thead>\n",
       "    <tr style=\"text-align: right;\">\n",
       "      <th></th>\n",
       "      <th>Year</th>\n",
       "      <th>Month</th>\n",
       "      <th>Day</th>\n",
       "      <th>Temperature</th>\n",
       "      <th>Dewpoint</th>\n",
       "      <th>Pressure</th>\n",
       "      <th>Wind</th>\n",
       "      <th>WindPeak</th>\n",
       "      <th>WindGust</th>\n",
       "      <th>TempMax</th>\n",
       "      <th>TempMin</th>\n",
       "      <th>Rain</th>\n",
       "      <th>Snow</th>\n",
       "    </tr>\n",
       "  </thead>\n",
       "  <tbody>\n",
       "    <tr>\n",
       "      <th>min</th>\n",
       "      <td>1936</td>\n",
       "      <td>1</td>\n",
       "      <td>1</td>\n",
       "      <td>0.1</td>\n",
       "      <td>-10.7</td>\n",
       "      <td>967.7</td>\n",
       "      <td>0.0</td>\n",
       "      <td>1.0</td>\n",
       "      <td>9.9</td>\n",
       "      <td>10.0</td>\n",
       "      <td>-11.0</td>\n",
       "      <td>0.00</td>\n",
       "      <td>0.4</td>\n",
       "    </tr>\n",
       "    <tr>\n",
       "      <th>max</th>\n",
       "      <td>2021</td>\n",
       "      <td>12</td>\n",
       "      <td>31</td>\n",
       "      <td>97.9</td>\n",
       "      <td>71.6</td>\n",
       "      <td>1038.9</td>\n",
       "      <td>33.1</td>\n",
       "      <td>55.0</td>\n",
       "      <td>87.0</td>\n",
       "      <td>108.0</td>\n",
       "      <td>93.2</td>\n",
       "      <td>5.51</td>\n",
       "      <td>37.4</td>\n",
       "    </tr>\n",
       "  </tbody>\n",
       "</table>\n",
       "</div>"
      ],
      "text/plain": [
       "     Year  Month  Day  Temperature  Dewpoint  Pressure  Wind  WindPeak  \\\n",
       "min  1936      1    1          0.1     -10.7     967.7   0.0       1.0   \n",
       "max  2021     12   31         97.9      71.6    1038.9  33.1      55.0   \n",
       "\n",
       "     WindGust  TempMax  TempMin  Rain  Snow  \n",
       "min       9.9     10.0    -11.0  0.00   0.4  \n",
       "max      87.0    108.0     93.2  5.51  37.4  "
      ]
     },
     "execution_count": 19,
     "metadata": {},
     "output_type": "execute_result"
    }
   ],
   "source": [
    "cleanweather.agg(['min', 'max'])"
   ]
  },
  {
   "cell_type": "markdown",
   "id": "productive-hierarchy",
   "metadata": {},
   "source": [
    "We see that there are no longer large amounts of anomolies for any of the weather columns. All columns are seen to be within reasonable ranges expected on Earth. "
   ]
  },
  {
   "cell_type": "markdown",
   "id": "differential-nelson",
   "metadata": {},
   "source": [
    "### Filling Empty Values <a name=\"FillingEmptyValues\"></a>"
   ]
  },
  {
   "cell_type": "markdown",
   "id": "passive-drink",
   "metadata": {},
   "source": [
    "Some NA fields should be treated differently than others. Let's do that as follows: \n",
    "\n",
    "Don't set to zero or mean. Leave or interpolate using time-adjacent values: \n",
    "- Temperature\n",
    "- TempMax\n",
    "- TempMin\n",
    "\n",
    "Never set to zero. Set to mean or leave NA: \n",
    "- Dewpoint\n",
    "- Pressure\n",
    "\n",
    "These instruments often report NA instead of 0. Set to zero: \n",
    "- WindPeak\n",
    "- WindGust\n",
    "- Wind\n",
    "\n",
    "Cumulative amounts. Never use adjacent or mean. Set to zero: \n",
    "- Rain\n",
    "- Snow\n",
    "\n",
    "No NAs present. Keys. \n",
    "- Station IDs\n",
    "- Year\n",
    "- Month\n",
    "- Day"
   ]
  },
  {
   "cell_type": "code",
   "execution_count": 20,
   "id": "wired-interest",
   "metadata": {},
   "outputs": [],
   "source": [
    "#use notes above to make column lists\n",
    "tosettozero = ['WindPeak', 'WindGust', 'Wind', 'Rain', 'Snow']\n",
    "tosettomean = ['Dewpoint', 'Pressure']\n",
    "tointerpolate = ['Temperature', 'TempMax', 'TempMin']"
   ]
  },
  {
   "cell_type": "code",
   "execution_count": 21,
   "id": "changing-globe",
   "metadata": {},
   "outputs": [
    {
     "data": {
      "text/plain": [
       "Year                0\n",
       "Month               0\n",
       "Day                 0\n",
       "Temperature         0\n",
       "Dewpoint         8128\n",
       "Pressure        59956\n",
       "Wind             5327\n",
       "WindPeak         5630\n",
       "WindGust       122991\n",
       "TempMax            92\n",
       "TempMin           169\n",
       "Rain            18805\n",
       "Snow           162406\n",
       "dtype: int64"
      ]
     },
     "execution_count": 21,
     "metadata": {},
     "output_type": "execute_result"
    }
   ],
   "source": [
    "cleanweather.isna().sum()"
   ]
  },
  {
   "cell_type": "code",
   "execution_count": 22,
   "id": "noble-athens",
   "metadata": {},
   "outputs": [
    {
     "data": {
      "text/html": [
       "<div>\n",
       "<style scoped>\n",
       "    .dataframe tbody tr th:only-of-type {\n",
       "        vertical-align: middle;\n",
       "    }\n",
       "\n",
       "    .dataframe tbody tr th {\n",
       "        vertical-align: top;\n",
       "    }\n",
       "\n",
       "    .dataframe thead th {\n",
       "        text-align: right;\n",
       "    }\n",
       "</style>\n",
       "<table border=\"1\" class=\"dataframe\">\n",
       "  <thead>\n",
       "    <tr style=\"text-align: right;\">\n",
       "      <th></th>\n",
       "      <th>Year</th>\n",
       "      <th>Month</th>\n",
       "      <th>Day</th>\n",
       "    </tr>\n",
       "    <tr>\n",
       "      <th>date</th>\n",
       "      <th></th>\n",
       "      <th></th>\n",
       "      <th></th>\n",
       "    </tr>\n",
       "  </thead>\n",
       "  <tbody>\n",
       "    <tr>\n",
       "      <th>1936-05-01</th>\n",
       "      <td>1936</td>\n",
       "      <td>5</td>\n",
       "      <td>1</td>\n",
       "    </tr>\n",
       "    <tr>\n",
       "      <th>1936-05-02</th>\n",
       "      <td>1936</td>\n",
       "      <td>5</td>\n",
       "      <td>2</td>\n",
       "    </tr>\n",
       "    <tr>\n",
       "      <th>1936-05-03</th>\n",
       "      <td>1936</td>\n",
       "      <td>5</td>\n",
       "      <td>3</td>\n",
       "    </tr>\n",
       "    <tr>\n",
       "      <th>1936-05-04</th>\n",
       "      <td>1936</td>\n",
       "      <td>5</td>\n",
       "      <td>4</td>\n",
       "    </tr>\n",
       "    <tr>\n",
       "      <th>1936-05-05</th>\n",
       "      <td>1936</td>\n",
       "      <td>5</td>\n",
       "      <td>5</td>\n",
       "    </tr>\n",
       "    <tr>\n",
       "      <th>...</th>\n",
       "      <td>...</td>\n",
       "      <td>...</td>\n",
       "      <td>...</td>\n",
       "    </tr>\n",
       "    <tr>\n",
       "      <th>2021-04-20</th>\n",
       "      <td>2021</td>\n",
       "      <td>4</td>\n",
       "      <td>20</td>\n",
       "    </tr>\n",
       "    <tr>\n",
       "      <th>2021-04-20</th>\n",
       "      <td>2021</td>\n",
       "      <td>4</td>\n",
       "      <td>20</td>\n",
       "    </tr>\n",
       "    <tr>\n",
       "      <th>2021-04-20</th>\n",
       "      <td>2021</td>\n",
       "      <td>4</td>\n",
       "      <td>20</td>\n",
       "    </tr>\n",
       "    <tr>\n",
       "      <th>2021-04-20</th>\n",
       "      <td>2021</td>\n",
       "      <td>4</td>\n",
       "      <td>20</td>\n",
       "    </tr>\n",
       "    <tr>\n",
       "      <th>2021-04-20</th>\n",
       "      <td>2021</td>\n",
       "      <td>4</td>\n",
       "      <td>20</td>\n",
       "    </tr>\n",
       "  </tbody>\n",
       "</table>\n",
       "<p>162928 rows × 3 columns</p>\n",
       "</div>"
      ],
      "text/plain": [
       "            Year  Month  Day\n",
       "date                        \n",
       "1936-05-01  1936      5    1\n",
       "1936-05-02  1936      5    2\n",
       "1936-05-03  1936      5    3\n",
       "1936-05-04  1936      5    4\n",
       "1936-05-05  1936      5    5\n",
       "...          ...    ...  ...\n",
       "2021-04-20  2021      4   20\n",
       "2021-04-20  2021      4   20\n",
       "2021-04-20  2021      4   20\n",
       "2021-04-20  2021      4   20\n",
       "2021-04-20  2021      4   20\n",
       "\n",
       "[162928 rows x 3 columns]"
      ]
     },
     "execution_count": 22,
     "metadata": {},
     "output_type": "execute_result"
    }
   ],
   "source": [
    "#We'll need a date field if we are to fillna with time-adjacent values: \n",
    "cleanweather['date'] = pd.to_datetime( cleanweather[['Year', 'Month', 'Day']] )\n",
    "cleanweather = cleanweather.set_index(['date']).sort_index()\n",
    "#Look at it\n",
    "cleanweather[['Year', 'Month', 'Day']]"
   ]
  },
  {
   "cell_type": "code",
   "execution_count": 23,
   "id": "superior-calgary",
   "metadata": {},
   "outputs": [
    {
     "name": "stderr",
     "output_type": "stream",
     "text": [
      "<ipython-input-23-e859bb0c6943>:3: SettingWithCopyWarning: \n",
      "A value is trying to be set on a copy of a slice from a DataFrame\n",
      "\n",
      "See the caveats in the documentation: https://pandas.pydata.org/pandas-docs/stable/user_guide/indexing.html#returning-a-view-versus-a-copy\n",
      "  filledweather[tointerpolate].interpolate(method='nearest', inplace=True)\n",
      "/Users/bem/opt/anaconda3/envs/SB/lib/python3.9/site-packages/pandas/core/frame.py:4462: SettingWithCopyWarning: \n",
      "A value is trying to be set on a copy of a slice from a DataFrame\n",
      "\n",
      "See the caveats in the documentation: https://pandas.pydata.org/pandas-docs/stable/user_guide/indexing.html#returning-a-view-versus-a-copy\n",
      "  return super().fillna(\n",
      "/Users/bem/opt/anaconda3/envs/SB/lib/python3.9/site-packages/pandas/core/series.py:4463: SettingWithCopyWarning: \n",
      "A value is trying to be set on a copy of a slice from a DataFrame\n",
      "\n",
      "See the caveats in the documentation: https://pandas.pydata.org/pandas-docs/stable/user_guide/indexing.html#returning-a-view-versus-a-copy\n",
      "  return super().fillna(\n"
     ]
    }
   ],
   "source": [
    "filledweather = cleanweather\n",
    "#filledweather[tointerpolate].fillna(method='ffill', inplace=True)\n",
    "filledweather[tointerpolate].interpolate(method='nearest', inplace=True)\n",
    "filledweather[tosettozero].fillna(0, inplace=True)\n",
    "filledweather[tosettomean].fillna(value=filledweather[tosettomean].mean(), inplace=True)\n"
   ]
  },
  {
   "cell_type": "code",
   "execution_count": 24,
   "id": "strategic-boutique",
   "metadata": {},
   "outputs": [
    {
     "data": {
      "text/plain": [
       "Year                0\n",
       "Month               0\n",
       "Day                 0\n",
       "Temperature         0\n",
       "Dewpoint         8128\n",
       "Pressure        59956\n",
       "Wind             5327\n",
       "WindPeak         5630\n",
       "WindGust       122991\n",
       "TempMax            92\n",
       "TempMin           169\n",
       "Rain            18805\n",
       "Snow           162406\n",
       "dtype: int64"
      ]
     },
     "execution_count": 24,
     "metadata": {},
     "output_type": "execute_result"
    }
   ],
   "source": [
    "filledweather.isna().sum()"
   ]
  },
  {
   "cell_type": "markdown",
   "id": "selected-allowance",
   "metadata": {},
   "source": [
    "That didn't work. Try deeper copies: "
   ]
  },
  {
   "cell_type": "code",
   "execution_count": 25,
   "id": "fundamental-porcelain",
   "metadata": {},
   "outputs": [],
   "source": [
    "filledweather = cleanweather.copy()\n",
    "#filledweather[tointerpolate].fillna(method='ffill', inplace=True)\n",
    "filledweather.loc[:, tointerpolate].interpolate(method='nearest', inplace=True)\n",
    "filledweather.loc[:, tosettozero].fillna(0, inplace=True)\n",
    "filledweather.loc[:, tosettomean].fillna(value=filledweather[tosettomean].mean(), inplace=True)\n"
   ]
  },
  {
   "cell_type": "code",
   "execution_count": 26,
   "id": "eligible-belgium",
   "metadata": {
    "scrolled": true
   },
   "outputs": [
    {
     "data": {
      "text/plain": [
       "Year                0\n",
       "Month               0\n",
       "Day                 0\n",
       "Temperature         0\n",
       "Dewpoint         8128\n",
       "Pressure        59956\n",
       "Wind             5327\n",
       "WindPeak         5630\n",
       "WindGust       122991\n",
       "TempMax            92\n",
       "TempMin           169\n",
       "Rain            18805\n",
       "Snow           162406\n",
       "dtype: int64"
      ]
     },
     "execution_count": 26,
     "metadata": {},
     "output_type": "execute_result"
    }
   ],
   "source": [
    "filledweather.isna().sum()"
   ]
  },
  {
   "cell_type": "markdown",
   "id": "proud-premises",
   "metadata": {},
   "source": [
    "Did not get the copy warning after changing to .loc() and .copy(), yet it still didn't fill the NAs. Let's try a third way: "
   ]
  },
  {
   "cell_type": "code",
   "execution_count": 37,
   "id": "valued-nylon",
   "metadata": {},
   "outputs": [],
   "source": [
    "filledweather = cleanweather.copy()\n",
    "#filledweather[tointerpolate].fillna(method='ffill', inplace=True)\n",
    "filledweather[tointerpolate] = filledweather[tointerpolate].interpolate(method='nearest')\n",
    "filledweather[tosettozero] = filledweather[tosettozero].fillna(0)\n",
    "filledweather[tosettomean] = filledweather[tosettomean].fillna(value=filledweather[tosettomean].mean())"
   ]
  },
  {
   "cell_type": "code",
   "execution_count": 38,
   "id": "affected-jerusalem",
   "metadata": {},
   "outputs": [
    {
     "data": {
      "text/plain": [
       "Year           0\n",
       "Month          0\n",
       "Day            0\n",
       "Temperature    0\n",
       "Dewpoint       0\n",
       "Pressure       0\n",
       "Wind           0\n",
       "WindPeak       0\n",
       "WindGust       0\n",
       "TempMax        0\n",
       "TempMin        0\n",
       "Rain           0\n",
       "Snow           0\n",
       "dtype: int64"
      ]
     },
     "execution_count": 38,
     "metadata": {},
     "output_type": "execute_result"
    }
   ],
   "source": [
    "filledweather.isna().sum()"
   ]
  },
  {
   "cell_type": "markdown",
   "id": "complicated-stable",
   "metadata": {},
   "source": [
    "No more NA values present. Our current index is the date/time so we can drop the other date fields."
   ]
  },
  {
   "cell_type": "code",
   "execution_count": 41,
   "id": "sufficient-roller",
   "metadata": {},
   "outputs": [],
   "source": [
    "finalweather = filledweather.drop(['Year', 'Month', 'Day'], 1)"
   ]
  },
  {
   "cell_type": "code",
   "execution_count": 42,
   "id": "animated-monitor",
   "metadata": {},
   "outputs": [
    {
     "data": {
      "text/html": [
       "<div>\n",
       "<style scoped>\n",
       "    .dataframe tbody tr th:only-of-type {\n",
       "        vertical-align: middle;\n",
       "    }\n",
       "\n",
       "    .dataframe tbody tr th {\n",
       "        vertical-align: top;\n",
       "    }\n",
       "\n",
       "    .dataframe thead th {\n",
       "        text-align: right;\n",
       "    }\n",
       "</style>\n",
       "<table border=\"1\" class=\"dataframe\">\n",
       "  <thead>\n",
       "    <tr style=\"text-align: right;\">\n",
       "      <th></th>\n",
       "      <th>Temperature</th>\n",
       "      <th>Dewpoint</th>\n",
       "      <th>Pressure</th>\n",
       "      <th>Wind</th>\n",
       "      <th>WindPeak</th>\n",
       "      <th>WindGust</th>\n",
       "      <th>TempMax</th>\n",
       "      <th>TempMin</th>\n",
       "      <th>Rain</th>\n",
       "      <th>Snow</th>\n",
       "    </tr>\n",
       "    <tr>\n",
       "      <th>date</th>\n",
       "      <th></th>\n",
       "      <th></th>\n",
       "      <th></th>\n",
       "      <th></th>\n",
       "      <th></th>\n",
       "      <th></th>\n",
       "      <th></th>\n",
       "      <th></th>\n",
       "      <th></th>\n",
       "      <th></th>\n",
       "    </tr>\n",
       "  </thead>\n",
       "  <tbody>\n",
       "    <tr>\n",
       "      <th>1936-05-01</th>\n",
       "      <td>57.6</td>\n",
       "      <td>46.400000</td>\n",
       "      <td>1010.653546</td>\n",
       "      <td>3.0</td>\n",
       "      <td>5.1</td>\n",
       "      <td>0.0</td>\n",
       "      <td>76.3</td>\n",
       "      <td>43.3</td>\n",
       "      <td>0.0</td>\n",
       "      <td>0.0</td>\n",
       "    </tr>\n",
       "    <tr>\n",
       "      <th>1936-05-02</th>\n",
       "      <td>61.5</td>\n",
       "      <td>54.100000</td>\n",
       "      <td>1010.653546</td>\n",
       "      <td>4.5</td>\n",
       "      <td>29.9</td>\n",
       "      <td>0.0</td>\n",
       "      <td>73.4</td>\n",
       "      <td>53.4</td>\n",
       "      <td>0.0</td>\n",
       "      <td>0.0</td>\n",
       "    </tr>\n",
       "    <tr>\n",
       "      <th>1936-05-03</th>\n",
       "      <td>61.8</td>\n",
       "      <td>54.600000</td>\n",
       "      <td>1010.653546</td>\n",
       "      <td>2.5</td>\n",
       "      <td>5.1</td>\n",
       "      <td>0.0</td>\n",
       "      <td>69.3</td>\n",
       "      <td>56.3</td>\n",
       "      <td>0.0</td>\n",
       "      <td>0.0</td>\n",
       "    </tr>\n",
       "    <tr>\n",
       "      <th>1936-05-04</th>\n",
       "      <td>56.6</td>\n",
       "      <td>51.800000</td>\n",
       "      <td>1010.653546</td>\n",
       "      <td>4.1</td>\n",
       "      <td>8.9</td>\n",
       "      <td>0.0</td>\n",
       "      <td>63.3</td>\n",
       "      <td>50.4</td>\n",
       "      <td>0.0</td>\n",
       "      <td>0.0</td>\n",
       "    </tr>\n",
       "    <tr>\n",
       "      <th>1936-05-05</th>\n",
       "      <td>52.1</td>\n",
       "      <td>46.000000</td>\n",
       "      <td>1010.653546</td>\n",
       "      <td>5.4</td>\n",
       "      <td>15.9</td>\n",
       "      <td>0.0</td>\n",
       "      <td>58.3</td>\n",
       "      <td>46.4</td>\n",
       "      <td>0.0</td>\n",
       "      <td>0.0</td>\n",
       "    </tr>\n",
       "    <tr>\n",
       "      <th>...</th>\n",
       "      <td>...</td>\n",
       "      <td>...</td>\n",
       "      <td>...</td>\n",
       "      <td>...</td>\n",
       "      <td>...</td>\n",
       "      <td>...</td>\n",
       "      <td>...</td>\n",
       "      <td>...</td>\n",
       "      <td>...</td>\n",
       "      <td>...</td>\n",
       "    </tr>\n",
       "    <tr>\n",
       "      <th>2021-04-20</th>\n",
       "      <td>60.7</td>\n",
       "      <td>41.300000</td>\n",
       "      <td>1010.653546</td>\n",
       "      <td>4.3</td>\n",
       "      <td>8.0</td>\n",
       "      <td>0.0</td>\n",
       "      <td>71.1</td>\n",
       "      <td>54.0</td>\n",
       "      <td>0.0</td>\n",
       "      <td>0.0</td>\n",
       "    </tr>\n",
       "    <tr>\n",
       "      <th>2021-04-20</th>\n",
       "      <td>64.9</td>\n",
       "      <td>43.860209</td>\n",
       "      <td>999.900000</td>\n",
       "      <td>0.0</td>\n",
       "      <td>0.0</td>\n",
       "      <td>0.0</td>\n",
       "      <td>74.1</td>\n",
       "      <td>57.0</td>\n",
       "      <td>0.0</td>\n",
       "      <td>0.0</td>\n",
       "    </tr>\n",
       "    <tr>\n",
       "      <th>2021-04-20</th>\n",
       "      <td>63.0</td>\n",
       "      <td>32.000000</td>\n",
       "      <td>1010.653546</td>\n",
       "      <td>8.4</td>\n",
       "      <td>9.9</td>\n",
       "      <td>0.0</td>\n",
       "      <td>71.1</td>\n",
       "      <td>55.9</td>\n",
       "      <td>0.0</td>\n",
       "      <td>0.0</td>\n",
       "    </tr>\n",
       "    <tr>\n",
       "      <th>2021-04-20</th>\n",
       "      <td>60.3</td>\n",
       "      <td>30.800000</td>\n",
       "      <td>1010.653546</td>\n",
       "      <td>8.4</td>\n",
       "      <td>9.9</td>\n",
       "      <td>0.0</td>\n",
       "      <td>66.9</td>\n",
       "      <td>57.0</td>\n",
       "      <td>0.0</td>\n",
       "      <td>0.0</td>\n",
       "    </tr>\n",
       "    <tr>\n",
       "      <th>2021-04-20</th>\n",
       "      <td>60.3</td>\n",
       "      <td>39.100000</td>\n",
       "      <td>1010.653546</td>\n",
       "      <td>3.2</td>\n",
       "      <td>6.0</td>\n",
       "      <td>0.0</td>\n",
       "      <td>71.1</td>\n",
       "      <td>51.1</td>\n",
       "      <td>0.0</td>\n",
       "      <td>0.0</td>\n",
       "    </tr>\n",
       "  </tbody>\n",
       "</table>\n",
       "<p>162928 rows × 10 columns</p>\n",
       "</div>"
      ],
      "text/plain": [
       "            Temperature   Dewpoint     Pressure  Wind  WindPeak  WindGust  \\\n",
       "date                                                                        \n",
       "1936-05-01         57.6  46.400000  1010.653546   3.0       5.1       0.0   \n",
       "1936-05-02         61.5  54.100000  1010.653546   4.5      29.9       0.0   \n",
       "1936-05-03         61.8  54.600000  1010.653546   2.5       5.1       0.0   \n",
       "1936-05-04         56.6  51.800000  1010.653546   4.1       8.9       0.0   \n",
       "1936-05-05         52.1  46.000000  1010.653546   5.4      15.9       0.0   \n",
       "...                 ...        ...          ...   ...       ...       ...   \n",
       "2021-04-20         60.7  41.300000  1010.653546   4.3       8.0       0.0   \n",
       "2021-04-20         64.9  43.860209   999.900000   0.0       0.0       0.0   \n",
       "2021-04-20         63.0  32.000000  1010.653546   8.4       9.9       0.0   \n",
       "2021-04-20         60.3  30.800000  1010.653546   8.4       9.9       0.0   \n",
       "2021-04-20         60.3  39.100000  1010.653546   3.2       6.0       0.0   \n",
       "\n",
       "            TempMax  TempMin  Rain  Snow  \n",
       "date                                      \n",
       "1936-05-01     76.3     43.3   0.0   0.0  \n",
       "1936-05-02     73.4     53.4   0.0   0.0  \n",
       "1936-05-03     69.3     56.3   0.0   0.0  \n",
       "1936-05-04     63.3     50.4   0.0   0.0  \n",
       "1936-05-05     58.3     46.4   0.0   0.0  \n",
       "...             ...      ...   ...   ...  \n",
       "2021-04-20     71.1     54.0   0.0   0.0  \n",
       "2021-04-20     74.1     57.0   0.0   0.0  \n",
       "2021-04-20     71.1     55.9   0.0   0.0  \n",
       "2021-04-20     66.9     57.0   0.0   0.0  \n",
       "2021-04-20     71.1     51.1   0.0   0.0  \n",
       "\n",
       "[162928 rows x 10 columns]"
      ]
     },
     "execution_count": 42,
     "metadata": {},
     "output_type": "execute_result"
    }
   ],
   "source": [
    "finalweather"
   ]
  },
  {
   "cell_type": "markdown",
   "id": "accessible-dodge",
   "metadata": {},
   "source": [
    "#### Exporting data <a name=\"Exportingdata\"></a>"
   ]
  },
  {
   "cell_type": "code",
   "execution_count": 43,
   "id": "young-multimedia",
   "metadata": {},
   "outputs": [],
   "source": [
    "weatherdf.to_pickle(\"../data/interim/weather.pkl\")"
   ]
  },
  {
   "cell_type": "markdown",
   "id": "registered-driving",
   "metadata": {},
   "source": [
    "Work will continue in [Notebook3](cap2_NB03.ipynb) where we will clean the crop data. "
   ]
  },
  {
   "cell_type": "code",
   "execution_count": 27,
   "id": "interested-finnish",
   "metadata": {},
   "outputs": [
    {
     "name": "stdout",
     "output_type": "stream",
     "text": [
      "total 75192\r\n",
      "-rw-r--r--@ 1 bem  staff    20M Apr 30 15:09 cap2_NB01.ipynb\r\n",
      "-rw-r--r--@ 1 bem  staff    31K Apr 30 15:15 cap2_NB02.ipynb\r\n",
      "-rw-r--r--@ 1 bem  staff    15K Apr 30 15:10 cap2_NB03.ipynb\r\n",
      "-rw-r--r--  1 bem  staff   640K Apr 30 14:46 cropdf2profile.html\r\n",
      "-rw-r--r--  1 bem  staff   1.3M Apr 30 14:46 cropdfprofile.html\r\n",
      "-rw-r--r--  1 bem  staff    15M Apr 30 15:16 weatherdfprofile.html\r\n"
     ]
    }
   ],
   "source": [
    "#verify files are < 100MB, due to a .ipynb size issue: \n",
    "!ls -lh"
   ]
  }
 ],
 "metadata": {
  "kernelspec": {
   "display_name": "Python 3",
   "language": "python",
   "name": "python3"
  },
  "language_info": {
   "codemirror_mode": {
    "name": "ipython",
    "version": 3
   },
   "file_extension": ".py",
   "mimetype": "text/x-python",
   "name": "python",
   "nbconvert_exporter": "python",
   "pygments_lexer": "ipython3",
   "version": "3.9.2"
  }
 },
 "nbformat": 4,
 "nbformat_minor": 5
}