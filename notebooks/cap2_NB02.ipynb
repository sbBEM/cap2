{
 "cells": [
  {
   "cell_type": "markdown",
   "id": "after-result",
   "metadata": {},
   "source": [
    "# How is US hazelnut production affected by inter-annual weather variation in the Willamette Valley of Oregon?"
   ]
  },
  {
   "cell_type": "markdown",
   "id": "armed-elite",
   "metadata": {},
   "source": [
    "[Previous Notebook](cap2_NB01.ipynb)\n",
    "# Notebook2\n",
    "Table of contents\n",
    "- [Importing](#Importing)\n",
    "- [Cleaning](#Cleaning)\n",
    "- [Transforming](#Transforming)\n",
    "- [Visualizing](#Visualizing)\n",
    "- [Modeling](#Modeling)\n",
    "- [Evaluating](#Evaluating)\n",
    "- [Concluding](#Concluding)\n",
    "\n",
    "[Next Notebook](cap2_NB03.ipynb)"
   ]
  },
  {
   "cell_type": "markdown",
   "id": "intensive-premiere",
   "metadata": {},
   "source": [
    "## Importing <a name=\"Importing\"></a>"
   ]
  },
  {
   "cell_type": "code",
   "execution_count": 3,
   "id": "sharp-inspector",
   "metadata": {},
   "outputs": [],
   "source": [
    "import matplotlib as mpl\n",
    "import numpy as np\n",
    "import pandas as pd\n",
    "#import google.cloud.bigquery as bq\n",
    "import matplotlib.pyplot as plt\n",
    "#from mpl_toolkits.basemap import Basemap\n",
    "#from io import BytesIO\n",
    "#from zipfile import ZipFile\n",
    "#import requests\n",
    "#from IPython.core.display import display, HTML\n",
    "#import tabula"
   ]
  },
  {
   "cell_type": "code",
   "execution_count": 5,
   "id": "abroad-shirt",
   "metadata": {},
   "outputs": [],
   "source": [
    "#%load_ext google.cloud.bigquery\n",
    "%load_ext autoreload\n",
    "%autoreload 2"
   ]
  },
  {
   "cell_type": "markdown",
   "id": "sharing-response",
   "metadata": {},
   "source": [
    "Bring in the data from previous notebook"
   ]
  },
  {
   "cell_type": "code",
   "execution_count": 4,
   "id": "irish-academy",
   "metadata": {},
   "outputs": [],
   "source": [
    "weatherdf = pd.read_pickle(\"../data/weather.pkl\")\n",
    "our_stations = pd.read_pickle(\"../data/station.pkl\")\n",
    "cropdf = pd.read_pickle(\"../data/crop.pkl\")\n",
    "cropdf2 = pd.read_pickle(\"../data/crop.pkl\")\n",
    "#region_points.read_pickle(\"../data/region.pkl\")"
   ]
  },
  {
   "cell_type": "markdown",
   "id": "compound-scheme",
   "metadata": {},
   "source": [
    "## Importing <a name=\"Cleaning\"></a>"
   ]
  },
  {
   "cell_type": "markdown",
   "id": "amateur-dominican",
   "metadata": {},
   "source": [
    "We want to build data definitions to describe the features in the datasets to identify any issues that will require cleaning. We'll try the Pandas profiling module. "
   ]
  },
  {
   "cell_type": "code",
   "execution_count": 7,
   "id": "headed-smart",
   "metadata": {},
   "outputs": [
    {
     "ename": "NameError",
     "evalue": "name 'ProfileReport' is not defined",
     "output_type": "error",
     "traceback": [
      "\u001b[0;31m---------------------------------------------------------------------------\u001b[0m",
      "\u001b[0;31mNameError\u001b[0m                                 Traceback (most recent call last)",
      "\u001b[0;32m<ipython-input-7-60a6a24af32f>\u001b[0m in \u001b[0;36m<module>\u001b[0;34m\u001b[0m\n\u001b[0;32m----> 1\u001b[0;31m \u001b[0mprofile\u001b[0m \u001b[0;34m=\u001b[0m \u001b[0mProfileReport\u001b[0m\u001b[0;34m(\u001b[0m\u001b[0mdf\u001b[0m\u001b[0;34m,\u001b[0m \u001b[0mtitle\u001b[0m\u001b[0;34m=\u001b[0m\u001b[0;34m'Pandas Profiling Report'\u001b[0m\u001b[0;34m,\u001b[0m \u001b[0mexplorative\u001b[0m\u001b[0;34m=\u001b[0m\u001b[0;32mTrue\u001b[0m\u001b[0;34m)\u001b[0m\u001b[0;34m\u001b[0m\u001b[0;34m\u001b[0m\u001b[0m\n\u001b[0m\u001b[1;32m      2\u001b[0m \u001b[0mprofile\u001b[0m\u001b[0;34m.\u001b[0m\u001b[0mto_widgets\u001b[0m\u001b[0;34m(\u001b[0m\u001b[0;34m)\u001b[0m\u001b[0;34m\u001b[0m\u001b[0;34m\u001b[0m\u001b[0m\n",
      "\u001b[0;31mNameError\u001b[0m: name 'ProfileReport' is not defined"
     ]
    }
   ],
   "source": [
    "profile = ProfileReport(df, title='Pandas Profiling Report', explorative=True)\n",
    "profile.to_widgets()"
   ]
  }
 ],
 "metadata": {
  "kernelspec": {
   "display_name": "Python 3",
   "language": "python",
   "name": "python3"
  },
  "language_info": {
   "codemirror_mode": {
    "name": "ipython",
    "version": 3
   },
   "file_extension": ".py",
   "mimetype": "text/x-python",
   "name": "python",
   "nbconvert_exporter": "python",
   "pygments_lexer": "ipython3",
   "version": "3.9.2"
  },
  "widgets": {
   "application/vnd.jupyter.widget-state+json": {
    "state": {},
    "version_major": 2,
    "version_minor": 0
   }
  }
 },
 "nbformat": 4,
 "nbformat_minor": 5
}
