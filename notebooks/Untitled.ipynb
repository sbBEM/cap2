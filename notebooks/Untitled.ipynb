{
 "cells": [
  {
   "cell_type": "code",
   "execution_count": 1,
   "id": "adjusted-siemens",
   "metadata": {},
   "outputs": [
    {
     "name": "stdout",
     "output_type": "stream",
     "text": [
      "Last 10 jobs:\n",
      "2fbf6105-7b3d-4048-89b4-54a773e8c1ae\n",
      "65482f8a-3e49-4870-b84a-d8264bb5a414\n",
      "ba7d6fd1-f37f-423f-84cc-db429788ed01\n",
      "e3545f8a-be0d-4ee2-b9cf-06b37962b2e5\n",
      "7cd8aee6-d986-480a-9984-da7a11f8a2b4\n",
      "58531f2a-d70a-4128-9855-eb18a2640dd3\n",
      "4667c1cb-364c-4713-ae29-4ab4d9751f0e\n",
      "12016cfd-5815-4f74-be32-b481384959eb\n",
      "c98ae90a-d282-4fb3-a8db-c0c2965b1947\n",
      "999da69b-f80a-4c99-a71b-a05c7d523e96\n"
     ]
    }
   ],
   "source": [
    "from google.cloud import bigquery\n",
    "\n",
    "import datetime\n",
    "\n",
    "# Construct a BigQuery client object.\n",
    "client = bigquery.Client()\n",
    "\n",
    "# List the 10 most recent jobs in reverse chronological order.\n",
    "# Omit the max_results parameter to list jobs from the past 6 months.\n",
    "print(\"Last 10 jobs:\")\n",
    "for job in client.list_jobs(max_results=10):  # API request(s)\n",
    "    print(\"{}\".format(job.job_id))"
   ]
  },
  {
   "cell_type": "code",
   "execution_count": 4,
   "id": "tight-muscle",
   "metadata": {},
   "outputs": [
    {
     "name": "stdout",
     "output_type": "stream",
     "text": [
      "Last 10 jobs done:\n",
      "2fbf6105-7b3d-4048-89b4-54a773e8c1ae\n",
      "65482f8a-3e49-4870-b84a-d8264bb5a414\n",
      "ba7d6fd1-f37f-423f-84cc-db429788ed01\n",
      "e3545f8a-be0d-4ee2-b9cf-06b37962b2e5\n",
      "7cd8aee6-d986-480a-9984-da7a11f8a2b4\n",
      "58531f2a-d70a-4128-9855-eb18a2640dd3\n",
      "4667c1cb-364c-4713-ae29-4ab4d9751f0e\n",
      "12016cfd-5815-4f74-be32-b481384959eb\n",
      "c98ae90a-d282-4fb3-a8db-c0c2965b1947\n",
      "999da69b-f80a-4c99-a71b-a05c7d523e96\n"
     ]
    }
   ],
   "source": [
    "# Use state_filter to filter by job state.\n",
    "print(\"Last 10 jobs done:\")\n",
    "for job in client.list_jobs(max_results=10, state_filter=\"DONE\"):\n",
    "    print(\"{}\".format(job.job_id))"
   ]
  }
 ],
 "metadata": {
  "kernelspec": {
   "display_name": "Python 3",
   "language": "python",
   "name": "python3"
  },
  "language_info": {
   "codemirror_mode": {
    "name": "ipython",
    "version": 3
   },
   "file_extension": ".py",
   "mimetype": "text/x-python",
   "name": "python",
   "nbconvert_exporter": "python",
   "pygments_lexer": "ipython3",
   "version": "3.9.2"
  }
 },
 "nbformat": 4,
 "nbformat_minor": 5
}
