{
 "cells": [
  {
   "cell_type": "markdown",
   "id": "round-fellow",
   "metadata": {},
   "source": [
    "# How might the weather changed in the Willamette Valley of Oregon over the past century and how might it change if trends continue?"
   ]
  },
  {
   "cell_type": "code",
   "execution_count": null,
   "id": "defensive-moldova",
   "metadata": {},
   "outputs": [],
   "source": []
  }
 ],
 "metadata": {
  "kernelspec": {
   "display_name": "Python 3",
   "language": "python",
   "name": "python3"
  },
  "language_info": {
   "codemirror_mode": {
    "name": "ipython",
    "version": 3
   },
   "file_extension": ".py",
   "mimetype": "text/x-python",
   "name": "python",
   "nbconvert_exporter": "python",
   "pygments_lexer": "ipython3",
   "version": "3.8.5"
  }
 },
 "nbformat": 4,
 "nbformat_minor": 5
}
